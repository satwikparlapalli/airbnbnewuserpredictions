{
  "nbformat": 4,
  "nbformat_minor": 0,
  "metadata": {
    "colab": {
      "name": "CS1_FeatureEngineering_ModelBuilding_Improved.ipynb",
      "provenance": [],
      "collapsed_sections": [
        "1kSyJayPijG3"
      ]
    },
    "kernelspec": {
      "display_name": "Python 3",
      "name": "python3"
    }
  },
  "cells": [
    {
      "cell_type": "markdown",
      "metadata": {
        "id": "VLSfM1iKDXwc"
      },
      "source": [
        "#Importing and Unzipping the data"
      ]
    },
    {
      "cell_type": "code",
      "metadata": {
        "id": "4K4eIwiPDiGn"
      },
      "source": [
        "#Importing packages necessary\n",
        "import os\n",
        "import warnings\n",
        "warnings.filterwarnings('ignore')"
      ],
      "execution_count": 1,
      "outputs": []
    },
    {
      "cell_type": "code",
      "metadata": {
        "colab": {
          "base_uri": "https://localhost:8080/"
        },
        "id": "wGkakBsJ5TtL",
        "outputId": "fef79a7f-57ae-4e80-b9ec-092fd03b5bdc"
      },
      "source": [
        "from google.colab import drive\n",
        "drive.mount('/content/drive')"
      ],
      "execution_count": 2,
      "outputs": [
        {
          "output_type": "stream",
          "text": [
            "Mounted at /content/drive\n"
          ],
          "name": "stdout"
        }
      ]
    },
    {
      "cell_type": "code",
      "metadata": {
        "id": "JK2te2vC5UzH"
      },
      "source": [
        "os.chdir('drive/My Drive')"
      ],
      "execution_count": 3,
      "outputs": []
    },
    {
      "cell_type": "code",
      "metadata": {
        "id": "D8i5Gt1J5sbP"
      },
      "source": [
        "# !wget --header=\"Host: storage.googleapis.com\" --header=\"User-Agent: Mozilla/5.0 (Windows NT 6.3; Win64; x64) AppleWebKit/537.36 (KHTML, like Gecko) Chrome/85.0.4183.121 Safari/537.36\" --header=\"Accept: text/html,application/xhtml+xml,application/xml;q=0.9,image/avif,image/webp,image/apng,*/*;q=0.8,application/signed-exchange;v=b3;q=0.9\" --header=\"Accept-Language: en-US,en;q=0.9\" --header=\"Referer: https://www.kaggle.com/\" \"https://storage.googleapis.com/kaggle-competitions-data/kaggle-v2/4651/35131/bundle/archive.zip?GoogleAccessId=web-data@kaggle-161607.iam.gserviceaccount.com&Expires=1602413612&Signature=JVAcCIjekEOgp4w8%2FdwOrni4DCyVaisc0soUNioXWqOintIGZYasisT%2FF5kdqxhhQUKi792vrnOFfUp5Y%2FLxdi%2B1z4zN6LpSH%2Bp6JOzrr67AswVuYaDrjHweCPJlZze%2B%2BXBDvuWyY3YHLnw%2BQ0EdAZ%2B%2BrgGxJjqN8csZX3U4itpxYfBr9QBwWPeBJIsZRf3E7TW5ZuZjmQbzJ6w3krmI1OEbHCz%2F%2FMijMqVTTQfYHegVFcVxfdj%2BQtClXm47%2FrydHhB2rF5YZh8dkgyI%2FrTAM8fxPlpK7eb%2BkE31ieBSCEQsNoIdRX5oQhuPVjwx49BQIIMauiiIBDK5VxgcS14iqg%3D%3D&response-content-disposition=attachment%3B+filename%3Dairbnb-recruiting-new-user-bookings.zip\" -c -O 'airbnb-recruiting-new-user-bookings.zip'"
      ],
      "execution_count": 4,
      "outputs": []
    },
    {
      "cell_type": "code",
      "metadata": {
        "id": "aStVEreX5x9f"
      },
      "source": [
        "# !unzip airbnb-recruiting-new-user-bookings.zip"
      ],
      "execution_count": 5,
      "outputs": []
    },
    {
      "cell_type": "code",
      "metadata": {
        "id": "6acyq4ZG6t9U"
      },
      "source": [
        "#!unzip age_gender_bkts.csv.zip"
      ],
      "execution_count": 6,
      "outputs": []
    },
    {
      "cell_type": "code",
      "metadata": {
        "id": "759l_YyEO_8T"
      },
      "source": [
        "import pandas as pd\n",
        "import numpy as np\n",
        "import matplotlib.pyplot as plt\n",
        "from datetime import datetime\n",
        "import calendar\n",
        "import seaborn as sns\n",
        "from scipy.sparse import hstack, vstack\n",
        "from sklearn.preprocessing import OneHotEncoder, LabelEncoder\n",
        "from sklearn.linear_model import LogisticRegression\n",
        "from sklearn.neighbors import KNeighborsRegressor\n",
        "from sklearn.linear_model import LinearRegression\n",
        "from sklearn.tree import DecisionTreeRegressor, DecisionTreeClassifier\n",
        "from sklearn.ensemble import RandomForestClassifier, RandomForestRegressor\n",
        "from xgboost import XGBClassifier, XGBRegressor\n",
        "from sklearn.model_selection import train_test_split\n",
        "from sklearn.model_selection import RandomizedSearchCV\n",
        "import sklearn\n",
        "from sklearn.metrics import make_scorer, ndcg_score"
      ],
      "execution_count": 7,
      "outputs": []
    },
    {
      "cell_type": "markdown",
      "metadata": {
        "id": "1kSyJayPijG3"
      },
      "source": [
        "#Feature Engineering"
      ]
    },
    {
      "cell_type": "markdown",
      "metadata": {
        "id": "u6GrB6O9M2yB"
      },
      "source": [
        "We have done the Exploratory Data Analysis on all the datasets given and found a few useful trends and some insights to improve the business.\n",
        "\n",
        "Now let us do necessary data cleaning and feature engineering to build first cut model. \n"
      ]
    },
    {
      "cell_type": "markdown",
      "metadata": {
        "id": "j5Ut89CoROGr"
      },
      "source": [
        "To do that, let's have a look at features available from different datasets such that we can think of a way to use them to train our model."
      ]
    },
    {
      "cell_type": "code",
      "metadata": {
        "colab": {
          "base_uri": "https://localhost:8080/"
        },
        "id": "cYzWYsati6X1",
        "outputId": "8eaad4ab-a4ef-440b-e41b-f2def81f3f22"
      },
      "source": [
        "test = pd.read_csv('test_users.csv')\n",
        "test.info()"
      ],
      "execution_count": null,
      "outputs": [
        {
          "output_type": "stream",
          "text": [
            "<class 'pandas.core.frame.DataFrame'>\n",
            "RangeIndex: 62096 entries, 0 to 62095\n",
            "Data columns (total 15 columns):\n",
            " #   Column                   Non-Null Count  Dtype  \n",
            "---  ------                   --------------  -----  \n",
            " 0   id                       62096 non-null  object \n",
            " 1   date_account_created     62096 non-null  object \n",
            " 2   timestamp_first_active   62096 non-null  int64  \n",
            " 3   date_first_booking       0 non-null      float64\n",
            " 4   gender                   62096 non-null  object \n",
            " 5   age                      33220 non-null  float64\n",
            " 6   signup_method            62096 non-null  object \n",
            " 7   signup_flow              62096 non-null  int64  \n",
            " 8   language                 62096 non-null  object \n",
            " 9   affiliate_channel        62096 non-null  object \n",
            " 10  affiliate_provider       62096 non-null  object \n",
            " 11  first_affiliate_tracked  62076 non-null  object \n",
            " 12  signup_app               62096 non-null  object \n",
            " 13  first_device_type        62096 non-null  object \n",
            " 14  first_browser            62096 non-null  object \n",
            "dtypes: float64(2), int64(2), object(11)\n",
            "memory usage: 7.1+ MB\n"
          ],
          "name": "stdout"
        }
      ]
    },
    {
      "cell_type": "markdown",
      "metadata": {
        "id": "6pLTIjSNi5Ux"
      },
      "source": [
        "Age feature has almost 50% null values. We will impute them the same way we impute the missing age values in train data.\n",
        "\n",
        "Since all the users in test data are new users i.e. who haven't booked yet, date_first_booking has all null values. So, this column in test data is of no use, so we have to drop this column in train data too. Because if we can't use a feature on test data, there is no point in training on it."
      ]
    },
    {
      "cell_type": "code",
      "metadata": {
        "colab": {
          "base_uri": "https://localhost:8080/"
        },
        "id": "XOaK0BzCj59L",
        "outputId": "d1d78573-b2d5-4c46-f00f-3f51b0bc0a9c"
      },
      "source": [
        "sessions = pd.read_csv('sessions.csv')\n",
        "sessions.info()"
      ],
      "execution_count": null,
      "outputs": [
        {
          "output_type": "stream",
          "text": [
            "<class 'pandas.core.frame.DataFrame'>\n",
            "RangeIndex: 10567737 entries, 0 to 10567736\n",
            "Data columns (total 6 columns):\n",
            " #   Column         Dtype  \n",
            "---  ------         -----  \n",
            " 0   user_id        object \n",
            " 1   action         object \n",
            " 2   action_type    object \n",
            " 3   action_detail  object \n",
            " 4   device_type    object \n",
            " 5   secs_elapsed   float64\n",
            "dtypes: float64(1), object(5)\n",
            "memory usage: 483.8+ MB\n"
          ],
          "name": "stdout"
        }
      ]
    },
    {
      "cell_type": "code",
      "metadata": {
        "colab": {
          "base_uri": "https://localhost:8080/",
          "height": 111
        },
        "id": "3TGvkb6Kvt3g",
        "outputId": "a345442d-4612-4b26-ffef-180c3498e3ef"
      },
      "source": [
        "sessions.head(2)"
      ],
      "execution_count": null,
      "outputs": [
        {
          "output_type": "execute_result",
          "data": {
            "text/html": [
              "<div>\n",
              "<style scoped>\n",
              "    .dataframe tbody tr th:only-of-type {\n",
              "        vertical-align: middle;\n",
              "    }\n",
              "\n",
              "    .dataframe tbody tr th {\n",
              "        vertical-align: top;\n",
              "    }\n",
              "\n",
              "    .dataframe thead th {\n",
              "        text-align: right;\n",
              "    }\n",
              "</style>\n",
              "<table border=\"1\" class=\"dataframe\">\n",
              "  <thead>\n",
              "    <tr style=\"text-align: right;\">\n",
              "      <th></th>\n",
              "      <th>user_id</th>\n",
              "      <th>action</th>\n",
              "      <th>action_type</th>\n",
              "      <th>action_detail</th>\n",
              "      <th>device_type</th>\n",
              "      <th>secs_elapsed</th>\n",
              "    </tr>\n",
              "  </thead>\n",
              "  <tbody>\n",
              "    <tr>\n",
              "      <th>0</th>\n",
              "      <td>d1mm9tcy42</td>\n",
              "      <td>lookup</td>\n",
              "      <td>NaN</td>\n",
              "      <td>NaN</td>\n",
              "      <td>Windows Desktop</td>\n",
              "      <td>319.0</td>\n",
              "    </tr>\n",
              "    <tr>\n",
              "      <th>1</th>\n",
              "      <td>d1mm9tcy42</td>\n",
              "      <td>search_results</td>\n",
              "      <td>click</td>\n",
              "      <td>view_search_results</td>\n",
              "      <td>Windows Desktop</td>\n",
              "      <td>67753.0</td>\n",
              "    </tr>\n",
              "  </tbody>\n",
              "</table>\n",
              "</div>"
            ],
            "text/plain": [
              "      user_id          action  ...      device_type secs_elapsed\n",
              "0  d1mm9tcy42          lookup  ...  Windows Desktop        319.0\n",
              "1  d1mm9tcy42  search_results  ...  Windows Desktop      67753.0\n",
              "\n",
              "[2 rows x 6 columns]"
            ]
          },
          "metadata": {
            "tags": []
          },
          "execution_count": 14
        }
      ]
    },
    {
      "cell_type": "markdown",
      "metadata": {
        "id": "qmMpEeWxjp-t"
      },
      "source": [
        "Sessions data has actions performed by users and the time (secs) elapsed for that action. From this data, we can create new features like total/mean elapsed time per user, action on which a user spent maximum time, total number of unique device types per user, total number of unique actions performed by a user etc.  "
      ]
    },
    {
      "cell_type": "code",
      "metadata": {
        "colab": {
          "base_uri": "https://localhost:8080/",
          "height": 204
        },
        "id": "4j0rXRljkvgT",
        "outputId": "3b7e192f-82c8-4af5-ba2a-0b69d04494e2"
      },
      "source": [
        "age_bucket = pd.read_csv('age_gender_bkts.csv')\n",
        "age_bucket.head()"
      ],
      "execution_count": null,
      "outputs": [
        {
          "output_type": "execute_result",
          "data": {
            "text/html": [
              "<div>\n",
              "<style scoped>\n",
              "    .dataframe tbody tr th:only-of-type {\n",
              "        vertical-align: middle;\n",
              "    }\n",
              "\n",
              "    .dataframe tbody tr th {\n",
              "        vertical-align: top;\n",
              "    }\n",
              "\n",
              "    .dataframe thead th {\n",
              "        text-align: right;\n",
              "    }\n",
              "</style>\n",
              "<table border=\"1\" class=\"dataframe\">\n",
              "  <thead>\n",
              "    <tr style=\"text-align: right;\">\n",
              "      <th></th>\n",
              "      <th>age_bucket</th>\n",
              "      <th>country_destination</th>\n",
              "      <th>gender</th>\n",
              "      <th>population_in_thousands</th>\n",
              "      <th>year</th>\n",
              "    </tr>\n",
              "  </thead>\n",
              "  <tbody>\n",
              "    <tr>\n",
              "      <th>0</th>\n",
              "      <td>100+</td>\n",
              "      <td>AU</td>\n",
              "      <td>male</td>\n",
              "      <td>1.0</td>\n",
              "      <td>2015.0</td>\n",
              "    </tr>\n",
              "    <tr>\n",
              "      <th>1</th>\n",
              "      <td>95-99</td>\n",
              "      <td>AU</td>\n",
              "      <td>male</td>\n",
              "      <td>9.0</td>\n",
              "      <td>2015.0</td>\n",
              "    </tr>\n",
              "    <tr>\n",
              "      <th>2</th>\n",
              "      <td>90-94</td>\n",
              "      <td>AU</td>\n",
              "      <td>male</td>\n",
              "      <td>47.0</td>\n",
              "      <td>2015.0</td>\n",
              "    </tr>\n",
              "    <tr>\n",
              "      <th>3</th>\n",
              "      <td>85-89</td>\n",
              "      <td>AU</td>\n",
              "      <td>male</td>\n",
              "      <td>118.0</td>\n",
              "      <td>2015.0</td>\n",
              "    </tr>\n",
              "    <tr>\n",
              "      <th>4</th>\n",
              "      <td>80-84</td>\n",
              "      <td>AU</td>\n",
              "      <td>male</td>\n",
              "      <td>199.0</td>\n",
              "      <td>2015.0</td>\n",
              "    </tr>\n",
              "  </tbody>\n",
              "</table>\n",
              "</div>"
            ],
            "text/plain": [
              "  age_bucket country_destination gender  population_in_thousands    year\n",
              "0       100+                  AU   male                      1.0  2015.0\n",
              "1      95-99                  AU   male                      9.0  2015.0\n",
              "2      90-94                  AU   male                     47.0  2015.0\n",
              "3      85-89                  AU   male                    118.0  2015.0\n",
              "4      80-84                  AU   male                    199.0  2015.0"
            ]
          },
          "metadata": {
            "tags": []
          },
          "execution_count": 15
        }
      ]
    },
    {
      "cell_type": "markdown",
      "metadata": {
        "id": "zWmX0wlWxcCk"
      },
      "source": [
        "Age bucket data has population stats for each age bucket, each gender, each destination country for year 2015. We need to explore more on how to use this data in train data. "
      ]
    },
    {
      "cell_type": "markdown",
      "metadata": {
        "id": "wq646jsIzuKy"
      },
      "source": [
        "Countries data set has data about the latitude, longitude, area in square kilometers, language spoken, distance from US, language distance from 'English' of all the destination countries present in our case study.\n",
        "\n",
        "This won't be of much use for us because data is not user specific."
      ]
    },
    {
      "cell_type": "code",
      "metadata": {
        "colab": {
          "base_uri": "https://localhost:8080/",
          "height": 258
        },
        "id": "AmsfG1sOEypJ",
        "outputId": "6e22c10f-d5e3-4ffc-ab0e-5d972c0b45c6"
      },
      "source": [
        "train = pd.read_csv('train_users_2.csv')\n",
        "train.head()"
      ],
      "execution_count": null,
      "outputs": [
        {
          "output_type": "execute_result",
          "data": {
            "text/html": [
              "<div>\n",
              "<style scoped>\n",
              "    .dataframe tbody tr th:only-of-type {\n",
              "        vertical-align: middle;\n",
              "    }\n",
              "\n",
              "    .dataframe tbody tr th {\n",
              "        vertical-align: top;\n",
              "    }\n",
              "\n",
              "    .dataframe thead th {\n",
              "        text-align: right;\n",
              "    }\n",
              "</style>\n",
              "<table border=\"1\" class=\"dataframe\">\n",
              "  <thead>\n",
              "    <tr style=\"text-align: right;\">\n",
              "      <th></th>\n",
              "      <th>id</th>\n",
              "      <th>date_account_created</th>\n",
              "      <th>timestamp_first_active</th>\n",
              "      <th>date_first_booking</th>\n",
              "      <th>gender</th>\n",
              "      <th>age</th>\n",
              "      <th>signup_method</th>\n",
              "      <th>signup_flow</th>\n",
              "      <th>language</th>\n",
              "      <th>affiliate_channel</th>\n",
              "      <th>affiliate_provider</th>\n",
              "      <th>first_affiliate_tracked</th>\n",
              "      <th>signup_app</th>\n",
              "      <th>first_device_type</th>\n",
              "      <th>first_browser</th>\n",
              "      <th>country_destination</th>\n",
              "    </tr>\n",
              "  </thead>\n",
              "  <tbody>\n",
              "    <tr>\n",
              "      <th>0</th>\n",
              "      <td>gxn3p5htnn</td>\n",
              "      <td>2010-06-28</td>\n",
              "      <td>20090319043255</td>\n",
              "      <td>NaN</td>\n",
              "      <td>-unknown-</td>\n",
              "      <td>NaN</td>\n",
              "      <td>facebook</td>\n",
              "      <td>0</td>\n",
              "      <td>en</td>\n",
              "      <td>direct</td>\n",
              "      <td>direct</td>\n",
              "      <td>untracked</td>\n",
              "      <td>Web</td>\n",
              "      <td>Mac Desktop</td>\n",
              "      <td>Chrome</td>\n",
              "      <td>NDF</td>\n",
              "    </tr>\n",
              "    <tr>\n",
              "      <th>1</th>\n",
              "      <td>820tgsjxq7</td>\n",
              "      <td>2011-05-25</td>\n",
              "      <td>20090523174809</td>\n",
              "      <td>NaN</td>\n",
              "      <td>MALE</td>\n",
              "      <td>38.0</td>\n",
              "      <td>facebook</td>\n",
              "      <td>0</td>\n",
              "      <td>en</td>\n",
              "      <td>seo</td>\n",
              "      <td>google</td>\n",
              "      <td>untracked</td>\n",
              "      <td>Web</td>\n",
              "      <td>Mac Desktop</td>\n",
              "      <td>Chrome</td>\n",
              "      <td>NDF</td>\n",
              "    </tr>\n",
              "    <tr>\n",
              "      <th>2</th>\n",
              "      <td>4ft3gnwmtx</td>\n",
              "      <td>2010-09-28</td>\n",
              "      <td>20090609231247</td>\n",
              "      <td>2010-08-02</td>\n",
              "      <td>FEMALE</td>\n",
              "      <td>56.0</td>\n",
              "      <td>basic</td>\n",
              "      <td>3</td>\n",
              "      <td>en</td>\n",
              "      <td>direct</td>\n",
              "      <td>direct</td>\n",
              "      <td>untracked</td>\n",
              "      <td>Web</td>\n",
              "      <td>Windows Desktop</td>\n",
              "      <td>IE</td>\n",
              "      <td>US</td>\n",
              "    </tr>\n",
              "    <tr>\n",
              "      <th>3</th>\n",
              "      <td>bjjt8pjhuk</td>\n",
              "      <td>2011-12-05</td>\n",
              "      <td>20091031060129</td>\n",
              "      <td>2012-09-08</td>\n",
              "      <td>FEMALE</td>\n",
              "      <td>42.0</td>\n",
              "      <td>facebook</td>\n",
              "      <td>0</td>\n",
              "      <td>en</td>\n",
              "      <td>direct</td>\n",
              "      <td>direct</td>\n",
              "      <td>untracked</td>\n",
              "      <td>Web</td>\n",
              "      <td>Mac Desktop</td>\n",
              "      <td>Firefox</td>\n",
              "      <td>other</td>\n",
              "    </tr>\n",
              "    <tr>\n",
              "      <th>4</th>\n",
              "      <td>87mebub9p4</td>\n",
              "      <td>2010-09-14</td>\n",
              "      <td>20091208061105</td>\n",
              "      <td>2010-02-18</td>\n",
              "      <td>-unknown-</td>\n",
              "      <td>41.0</td>\n",
              "      <td>basic</td>\n",
              "      <td>0</td>\n",
              "      <td>en</td>\n",
              "      <td>direct</td>\n",
              "      <td>direct</td>\n",
              "      <td>untracked</td>\n",
              "      <td>Web</td>\n",
              "      <td>Mac Desktop</td>\n",
              "      <td>Chrome</td>\n",
              "      <td>US</td>\n",
              "    </tr>\n",
              "  </tbody>\n",
              "</table>\n",
              "</div>"
            ],
            "text/plain": [
              "           id date_account_created  ...  first_browser country_destination\n",
              "0  gxn3p5htnn           2010-06-28  ...         Chrome                 NDF\n",
              "1  820tgsjxq7           2011-05-25  ...         Chrome                 NDF\n",
              "2  4ft3gnwmtx           2010-09-28  ...             IE                  US\n",
              "3  bjjt8pjhuk           2011-12-05  ...        Firefox               other\n",
              "4  87mebub9p4           2010-09-14  ...         Chrome                  US\n",
              "\n",
              "[5 rows x 16 columns]"
            ]
          },
          "metadata": {
            "tags": []
          },
          "execution_count": 16
        }
      ]
    },
    {
      "cell_type": "code",
      "metadata": {
        "colab": {
          "base_uri": "https://localhost:8080/"
        },
        "id": "XNdwKBlXE0l6",
        "outputId": "bda8be5b-ba4b-4aab-d2f8-fc66fb334dc7"
      },
      "source": [
        "train.info()"
      ],
      "execution_count": null,
      "outputs": [
        {
          "output_type": "stream",
          "text": [
            "<class 'pandas.core.frame.DataFrame'>\n",
            "RangeIndex: 213451 entries, 0 to 213450\n",
            "Data columns (total 16 columns):\n",
            " #   Column                   Non-Null Count   Dtype  \n",
            "---  ------                   --------------   -----  \n",
            " 0   id                       213451 non-null  object \n",
            " 1   date_account_created     213451 non-null  object \n",
            " 2   timestamp_first_active   213451 non-null  int64  \n",
            " 3   date_first_booking       88908 non-null   object \n",
            " 4   gender                   213451 non-null  object \n",
            " 5   age                      125461 non-null  float64\n",
            " 6   signup_method            213451 non-null  object \n",
            " 7   signup_flow              213451 non-null  int64  \n",
            " 8   language                 213451 non-null  object \n",
            " 9   affiliate_channel        213451 non-null  object \n",
            " 10  affiliate_provider       213451 non-null  object \n",
            " 11  first_affiliate_tracked  207386 non-null  object \n",
            " 12  signup_app               213451 non-null  object \n",
            " 13  first_device_type        213451 non-null  object \n",
            " 14  first_browser            213451 non-null  object \n",
            " 15  country_destination      213451 non-null  object \n",
            "dtypes: float64(1), int64(2), object(13)\n",
            "memory usage: 26.1+ MB\n"
          ],
          "name": "stdout"
        }
      ]
    },
    {
      "cell_type": "code",
      "metadata": {
        "colab": {
          "base_uri": "https://localhost:8080/"
        },
        "id": "RzjtSP-kaRSm",
        "outputId": "81b6824a-79a8-483a-e307-120750fbdd2b"
      },
      "source": [
        "train['age'].describe()"
      ],
      "execution_count": null,
      "outputs": [
        {
          "output_type": "execute_result",
          "data": {
            "text/plain": [
              "count    125461.000000\n",
              "mean         49.668335\n",
              "std         155.666612\n",
              "min           1.000000\n",
              "25%          28.000000\n",
              "50%          34.000000\n",
              "75%          43.000000\n",
              "max        2014.000000\n",
              "Name: age, dtype: float64"
            ]
          },
          "metadata": {
            "tags": []
          },
          "execution_count": 18
        }
      ]
    },
    {
      "cell_type": "markdown",
      "metadata": {
        "id": "n-HaCNj8dbum"
      },
      "source": [
        "From above, max value is 2014 and min value is 1 which are clearly outliers. So we need to modify them or remove them. Also from train.info we saw that there are almost half null values. As discussed above, we won't drop this feature but will impute using mean,median or model based. Before that, let us see how many outliers are there"
      ]
    },
    {
      "cell_type": "code",
      "metadata": {
        "colab": {
          "base_uri": "https://localhost:8080/"
        },
        "id": "9QDIT_sqedgB",
        "outputId": "701e3d8e-281a-4dcc-eb62-c3eb3baf2880"
      },
      "source": [
        "train[(train['age']>120) | (train['age']<10)]['age']"
      ],
      "execution_count": null,
      "outputs": [
        {
          "output_type": "execute_result",
          "data": {
            "text/plain": [
              "193          5.0\n",
              "388       2014.0\n",
              "482          5.0\n",
              "642          5.0\n",
              "660          5.0\n",
              "           ...  \n",
              "197386    1938.0\n",
              "198888    1924.0\n",
              "206249    1947.0\n",
              "208819    1949.0\n",
              "211496    1926.0\n",
              "Name: age, Length: 838, dtype: float64"
            ]
          },
          "metadata": {
            "tags": []
          },
          "execution_count": 19
        }
      ]
    },
    {
      "cell_type": "markdown",
      "metadata": {
        "id": "ViOu4dwqhNgA"
      },
      "source": [
        "As we see, these might be mistakenly entered for year of birth. So we can calculate their age by substracting the year they entered while account creation from year in which the account was created. And we just replace the other values with null values."
      ]
    },
    {
      "cell_type": "code",
      "metadata": {
        "colab": {
          "base_uri": "https://localhost:8080/"
        },
        "id": "t2KnWSpbWFIL",
        "outputId": "3a4f286a-a141-48b3-e540-f30131b0c626"
      },
      "source": [
        "#Replace outliers in age feature with null values\n",
        "train['age'] = [np.NaN if ((x>120 and x not in range(1900,2000)) or x<10) else x for x in train['age']]\n",
        "test['age'] = [np.NaN if ((x>120 and x not in range(1900,2000)) or x<10) else x for x in test['age']]\n",
        "train[(train['age']>120) | (train['age']<10)]['age']"
      ],
      "execution_count": null,
      "outputs": [
        {
          "output_type": "execute_result",
          "data": {
            "text/plain": [
              "41046     1949.0\n",
              "55474     1931.0\n",
              "59537     1932.0\n",
              "67223     1932.0\n",
              "67610     1932.0\n",
              "81999     1928.0\n",
              "102044    1936.0\n",
              "104695    1933.0\n",
              "114377    1935.0\n",
              "114599    1925.0\n",
              "118621    1952.0\n",
              "145422    1927.0\n",
              "157181    1931.0\n",
              "157318    1953.0\n",
              "160781    1942.0\n",
              "165271    1995.0\n",
              "180961    1928.0\n",
              "180995    1924.0\n",
              "184424    1936.0\n",
              "189661    1929.0\n",
              "190142    1949.0\n",
              "190565    1931.0\n",
              "194056    1929.0\n",
              "196558    1947.0\n",
              "197386    1938.0\n",
              "198888    1924.0\n",
              "206249    1947.0\n",
              "208819    1949.0\n",
              "211496    1926.0\n",
              "Name: age, dtype: float64"
            ]
          },
          "metadata": {
            "tags": []
          },
          "execution_count": 20
        }
      ]
    },
    {
      "cell_type": "markdown",
      "metadata": {
        "id": "P4TeQxX8Wwi5"
      },
      "source": [
        "To calculate the age of the users from above mistakenly given data, we need to know year account created. "
      ]
    },
    {
      "cell_type": "markdown",
      "metadata": {
        "id": "jN39Ysu0e4jx"
      },
      "source": [
        "Let us check out date features available viz. date_account_created, timestamp_first_active, date_first_booking. Since we can't use date feature as it is in a model, we can create new feature out of them. For example, we can get day of the week, month from a date. And also, we can calculate time gap between timestamp_first_active and date_account_created etc."
      ]
    },
    {
      "cell_type": "code",
      "metadata": {
        "id": "pQbwHm_I-pWb"
      },
      "source": [
        "'''Extract features like weekday, year, month from date features available'''\n",
        "\n",
        "def extract_weekday(format, datecolumn):\n",
        "  weekdays = [\"Monday\",\"Tuesday\",\"Wednesday\",\"Thursday\",\"Friday\",\"Saturday\",\"Sunday\"]\n",
        "  day_of_week = [weekdays[datetime.strptime(str(x), format).weekday()] for x in datecolumn]\n",
        "  return day_of_week\n",
        "\n",
        "def extract_month(format, datecolumn):\n",
        "  month = [calendar.month_name[datetime.strptime(str(x), format).month] for x in datecolumn]\n",
        "  return month\n",
        "\n",
        "def extract_year(format, datecolumn):\n",
        "  years = [datetime.strptime(str(x), format).year for x in datecolumn]\n",
        "  return years\n",
        "\n",
        "def extract_date(format, datecolumn):\n",
        "  date = [datetime.strptime(str(x), format).day for x in datecolumn]\n",
        "  return date\n",
        "\n",
        "#https://stackoverflow.com/questions/2600775/how-to-get-week-number-in-python\n",
        "def extract_weeknum(format, datecolumn):\n",
        "  weeknum = [datetime.strptime(str(x), format).isocalendar()[1] for x in datecolumn]\n",
        "  return weeknum\n"
      ],
      "execution_count": null,
      "outputs": []
    },
    {
      "cell_type": "code",
      "metadata": {
        "id": "RVaRwKrSxQbq"
      },
      "source": [
        "#Create new features in train and test data from date_account_created column\n",
        "train['day_account_created'] = extract_weekday('%Y-%m-%d', train['date_account_created'])\n",
        "train['month_account_created'] = extract_month('%Y-%m-%d', train['date_account_created'])\n",
        "train['year_account_created'] = extract_year('%Y-%m-%d', train['date_account_created'])\n",
        "train['date__account_created'] = extract_date('%Y-%m-%d', train['date_account_created'])\n",
        "train['week_account_created'] = extract_weeknum('%Y-%m-%d', train['date_account_created'])\n",
        "\n",
        "test['day_account_created'] = extract_weekday('%Y-%m-%d', test['date_account_created'])\n",
        "test['month_account_created'] = extract_month('%Y-%m-%d', test['date_account_created'])\n",
        "test['year_account_created'] = extract_year('%Y-%m-%d', test['date_account_created'])\n",
        "test['date__account_created'] = extract_date('%Y-%m-%d', test['date_account_created'])\n",
        "test['week_account_created'] = extract_weeknum('%Y-%m-%d', test['date_account_created'])"
      ],
      "execution_count": null,
      "outputs": []
    },
    {
      "cell_type": "code",
      "metadata": {
        "colab": {
          "base_uri": "https://localhost:8080/",
          "height": 148
        },
        "id": "IvL9IRszB1u_",
        "outputId": "a0183894-d76f-4fa4-9790-932820c412e1"
      },
      "source": [
        "train.head(2)"
      ],
      "execution_count": null,
      "outputs": [
        {
          "output_type": "execute_result",
          "data": {
            "text/html": [
              "<div>\n",
              "<style scoped>\n",
              "    .dataframe tbody tr th:only-of-type {\n",
              "        vertical-align: middle;\n",
              "    }\n",
              "\n",
              "    .dataframe tbody tr th {\n",
              "        vertical-align: top;\n",
              "    }\n",
              "\n",
              "    .dataframe thead th {\n",
              "        text-align: right;\n",
              "    }\n",
              "</style>\n",
              "<table border=\"1\" class=\"dataframe\">\n",
              "  <thead>\n",
              "    <tr style=\"text-align: right;\">\n",
              "      <th></th>\n",
              "      <th>id</th>\n",
              "      <th>date_account_created</th>\n",
              "      <th>timestamp_first_active</th>\n",
              "      <th>date_first_booking</th>\n",
              "      <th>gender</th>\n",
              "      <th>age</th>\n",
              "      <th>signup_method</th>\n",
              "      <th>signup_flow</th>\n",
              "      <th>language</th>\n",
              "      <th>affiliate_channel</th>\n",
              "      <th>affiliate_provider</th>\n",
              "      <th>first_affiliate_tracked</th>\n",
              "      <th>signup_app</th>\n",
              "      <th>first_device_type</th>\n",
              "      <th>first_browser</th>\n",
              "      <th>country_destination</th>\n",
              "      <th>day_account_created</th>\n",
              "      <th>month_account_created</th>\n",
              "      <th>year_account_created</th>\n",
              "      <th>date__account_created</th>\n",
              "      <th>week_account_created</th>\n",
              "    </tr>\n",
              "  </thead>\n",
              "  <tbody>\n",
              "    <tr>\n",
              "      <th>0</th>\n",
              "      <td>gxn3p5htnn</td>\n",
              "      <td>2010-06-28</td>\n",
              "      <td>20090319043255</td>\n",
              "      <td>NaN</td>\n",
              "      <td>-unknown-</td>\n",
              "      <td>NaN</td>\n",
              "      <td>facebook</td>\n",
              "      <td>0</td>\n",
              "      <td>en</td>\n",
              "      <td>direct</td>\n",
              "      <td>direct</td>\n",
              "      <td>untracked</td>\n",
              "      <td>Web</td>\n",
              "      <td>Mac Desktop</td>\n",
              "      <td>Chrome</td>\n",
              "      <td>NDF</td>\n",
              "      <td>Monday</td>\n",
              "      <td>June</td>\n",
              "      <td>2010</td>\n",
              "      <td>28</td>\n",
              "      <td>26</td>\n",
              "    </tr>\n",
              "    <tr>\n",
              "      <th>1</th>\n",
              "      <td>820tgsjxq7</td>\n",
              "      <td>2011-05-25</td>\n",
              "      <td>20090523174809</td>\n",
              "      <td>NaN</td>\n",
              "      <td>MALE</td>\n",
              "      <td>38.0</td>\n",
              "      <td>facebook</td>\n",
              "      <td>0</td>\n",
              "      <td>en</td>\n",
              "      <td>seo</td>\n",
              "      <td>google</td>\n",
              "      <td>untracked</td>\n",
              "      <td>Web</td>\n",
              "      <td>Mac Desktop</td>\n",
              "      <td>Chrome</td>\n",
              "      <td>NDF</td>\n",
              "      <td>Wednesday</td>\n",
              "      <td>May</td>\n",
              "      <td>2011</td>\n",
              "      <td>25</td>\n",
              "      <td>21</td>\n",
              "    </tr>\n",
              "  </tbody>\n",
              "</table>\n",
              "</div>"
            ],
            "text/plain": [
              "           id date_account_created  ...  date__account_created week_account_created\n",
              "0  gxn3p5htnn           2010-06-28  ...                     28                   26\n",
              "1  820tgsjxq7           2011-05-25  ...                     25                   21\n",
              "\n",
              "[2 rows x 21 columns]"
            ]
          },
          "metadata": {
            "tags": []
          },
          "execution_count": 23
        }
      ]
    },
    {
      "cell_type": "code",
      "metadata": {
        "colab": {
          "base_uri": "https://localhost:8080/"
        },
        "id": "lz77SdEyaAc7",
        "outputId": "7c23960c-0018-4142-b295-5654b031d550"
      },
      "source": [
        "train['age'] = [int(train.loc[x]['year_account_created'])-train.loc[x]['age'] if train.loc[x]['age'] in range(1900,2000) else train.loc[x]['age'] for x in train.index]\n",
        "test['age'] = [int(test.loc[x]['year_account_created'])-test.loc[x]['age'] if test.loc[x]['age'] in range(1900,2000) else test.loc[x]['age'] for x in test.index]\n",
        "\n",
        "train[(train['age']>120) | (train['age']<10)]['age']"
      ],
      "execution_count": null,
      "outputs": [
        {
          "output_type": "execute_result",
          "data": {
            "text/plain": [
              "Series([], Name: age, dtype: float64)"
            ]
          },
          "metadata": {
            "tags": []
          },
          "execution_count": 24
        }
      ]
    },
    {
      "cell_type": "code",
      "metadata": {
        "colab": {
          "base_uri": "https://localhost:8080/",
          "height": 148
        },
        "id": "0m3xcq5muONx",
        "outputId": "cc074c1e-4337-4eec-88a8-136f5d56d771"
      },
      "source": [
        "#Create new features in train and test data from timestamp_first_active column\n",
        "train['day_first_active'] = extract_weekday('%Y%m%d%H%M%S', train['timestamp_first_active'])\n",
        "train['month_first_active']=extract_month('%Y%m%d%H%M%S', train['timestamp_first_active'])\n",
        "train['year_first_active']=extract_year('%Y%m%d%H%M%S', train['timestamp_first_active'])\n",
        "train['date_first_active'] = extract_date('%Y%m%d%H%M%S', train['timestamp_first_active'])\n",
        "train['week_first_active'] = extract_weeknum('%Y%m%d%H%M%S', train['timestamp_first_active'])\n",
        "\n",
        "test['day_first_active'] = extract_weekday('%Y%m%d%H%M%S', test['timestamp_first_active'])\n",
        "test['month_first_active']=extract_month('%Y%m%d%H%M%S', test['timestamp_first_active'])\n",
        "test['year_first_active']=extract_year('%Y%m%d%H%M%S', test['timestamp_first_active'])\n",
        "test['date_first_active'] = extract_date('%Y%m%d%H%M%S', test['timestamp_first_active'])\n",
        "test['week_first_active'] = extract_weeknum('%Y%m%d%H%M%S', test['timestamp_first_active'])\n",
        "train.head(2)"
      ],
      "execution_count": null,
      "outputs": [
        {
          "output_type": "execute_result",
          "data": {
            "text/html": [
              "<div>\n",
              "<style scoped>\n",
              "    .dataframe tbody tr th:only-of-type {\n",
              "        vertical-align: middle;\n",
              "    }\n",
              "\n",
              "    .dataframe tbody tr th {\n",
              "        vertical-align: top;\n",
              "    }\n",
              "\n",
              "    .dataframe thead th {\n",
              "        text-align: right;\n",
              "    }\n",
              "</style>\n",
              "<table border=\"1\" class=\"dataframe\">\n",
              "  <thead>\n",
              "    <tr style=\"text-align: right;\">\n",
              "      <th></th>\n",
              "      <th>id</th>\n",
              "      <th>date_account_created</th>\n",
              "      <th>timestamp_first_active</th>\n",
              "      <th>date_first_booking</th>\n",
              "      <th>gender</th>\n",
              "      <th>age</th>\n",
              "      <th>signup_method</th>\n",
              "      <th>signup_flow</th>\n",
              "      <th>language</th>\n",
              "      <th>affiliate_channel</th>\n",
              "      <th>affiliate_provider</th>\n",
              "      <th>first_affiliate_tracked</th>\n",
              "      <th>signup_app</th>\n",
              "      <th>first_device_type</th>\n",
              "      <th>first_browser</th>\n",
              "      <th>country_destination</th>\n",
              "      <th>day_account_created</th>\n",
              "      <th>month_account_created</th>\n",
              "      <th>year_account_created</th>\n",
              "      <th>date__account_created</th>\n",
              "      <th>week_account_created</th>\n",
              "      <th>day_first_active</th>\n",
              "      <th>month_first_active</th>\n",
              "      <th>year_first_active</th>\n",
              "      <th>date_first_active</th>\n",
              "      <th>week_first_active</th>\n",
              "    </tr>\n",
              "  </thead>\n",
              "  <tbody>\n",
              "    <tr>\n",
              "      <th>0</th>\n",
              "      <td>gxn3p5htnn</td>\n",
              "      <td>2010-06-28</td>\n",
              "      <td>20090319043255</td>\n",
              "      <td>NaN</td>\n",
              "      <td>-unknown-</td>\n",
              "      <td>NaN</td>\n",
              "      <td>facebook</td>\n",
              "      <td>0</td>\n",
              "      <td>en</td>\n",
              "      <td>direct</td>\n",
              "      <td>direct</td>\n",
              "      <td>untracked</td>\n",
              "      <td>Web</td>\n",
              "      <td>Mac Desktop</td>\n",
              "      <td>Chrome</td>\n",
              "      <td>NDF</td>\n",
              "      <td>Monday</td>\n",
              "      <td>June</td>\n",
              "      <td>2010</td>\n",
              "      <td>28</td>\n",
              "      <td>26</td>\n",
              "      <td>Thursday</td>\n",
              "      <td>March</td>\n",
              "      <td>2009</td>\n",
              "      <td>19</td>\n",
              "      <td>12</td>\n",
              "    </tr>\n",
              "    <tr>\n",
              "      <th>1</th>\n",
              "      <td>820tgsjxq7</td>\n",
              "      <td>2011-05-25</td>\n",
              "      <td>20090523174809</td>\n",
              "      <td>NaN</td>\n",
              "      <td>MALE</td>\n",
              "      <td>38.0</td>\n",
              "      <td>facebook</td>\n",
              "      <td>0</td>\n",
              "      <td>en</td>\n",
              "      <td>seo</td>\n",
              "      <td>google</td>\n",
              "      <td>untracked</td>\n",
              "      <td>Web</td>\n",
              "      <td>Mac Desktop</td>\n",
              "      <td>Chrome</td>\n",
              "      <td>NDF</td>\n",
              "      <td>Wednesday</td>\n",
              "      <td>May</td>\n",
              "      <td>2011</td>\n",
              "      <td>25</td>\n",
              "      <td>21</td>\n",
              "      <td>Saturday</td>\n",
              "      <td>May</td>\n",
              "      <td>2009</td>\n",
              "      <td>23</td>\n",
              "      <td>21</td>\n",
              "    </tr>\n",
              "  </tbody>\n",
              "</table>\n",
              "</div>"
            ],
            "text/plain": [
              "           id date_account_created  ...  date_first_active week_first_active\n",
              "0  gxn3p5htnn           2010-06-28  ...                 19                12\n",
              "1  820tgsjxq7           2011-05-25  ...                 23                21\n",
              "\n",
              "[2 rows x 26 columns]"
            ]
          },
          "metadata": {
            "tags": []
          },
          "execution_count": 25
        }
      ]
    },
    {
      "cell_type": "code",
      "metadata": {
        "id": "lSikDXvSo5uZ"
      },
      "source": [
        "def difference_of_days(dac,tfa):\n",
        "\n",
        "  '''Calculate number of days difference between date first active and date account created feature '''\n",
        "  \n",
        "  #Convert them to date format \n",
        "  dac_dt = datetime.strptime(str(dac), '%Y-%m-%d')\n",
        "  tfa_dt = datetime.strptime(str(tfa), '%Y%m%d%H%M%S')\n",
        "  #Find the difference\n",
        "  no_of_days = dac_dt-tfa_dt\n",
        "  return no_of_days.days\n"
      ],
      "execution_count": null,
      "outputs": []
    },
    {
      "cell_type": "code",
      "metadata": {
        "colab": {
          "base_uri": "https://localhost:8080/",
          "height": 148
        },
        "id": "yRSrRFXTXYAJ",
        "outputId": "6530075d-3291-401a-dbcb-462f18bf52af"
      },
      "source": [
        "#Create new feature in train and test i.e. number of days between date first active and date account created\n",
        "train['days_between_tfa_dac'] = train.apply(lambda x: difference_of_days(x.date_account_created,x.timestamp_first_active), axis=1)\n",
        "test['days_between_tfa_dac'] = test.apply(lambda x: difference_of_days(x.date_account_created,x.timestamp_first_active), axis=1)\n",
        "train.head(2)"
      ],
      "execution_count": null,
      "outputs": [
        {
          "output_type": "execute_result",
          "data": {
            "text/html": [
              "<div>\n",
              "<style scoped>\n",
              "    .dataframe tbody tr th:only-of-type {\n",
              "        vertical-align: middle;\n",
              "    }\n",
              "\n",
              "    .dataframe tbody tr th {\n",
              "        vertical-align: top;\n",
              "    }\n",
              "\n",
              "    .dataframe thead th {\n",
              "        text-align: right;\n",
              "    }\n",
              "</style>\n",
              "<table border=\"1\" class=\"dataframe\">\n",
              "  <thead>\n",
              "    <tr style=\"text-align: right;\">\n",
              "      <th></th>\n",
              "      <th>id</th>\n",
              "      <th>date_account_created</th>\n",
              "      <th>timestamp_first_active</th>\n",
              "      <th>date_first_booking</th>\n",
              "      <th>gender</th>\n",
              "      <th>age</th>\n",
              "      <th>signup_method</th>\n",
              "      <th>signup_flow</th>\n",
              "      <th>language</th>\n",
              "      <th>affiliate_channel</th>\n",
              "      <th>affiliate_provider</th>\n",
              "      <th>first_affiliate_tracked</th>\n",
              "      <th>signup_app</th>\n",
              "      <th>first_device_type</th>\n",
              "      <th>first_browser</th>\n",
              "      <th>country_destination</th>\n",
              "      <th>day_account_created</th>\n",
              "      <th>month_account_created</th>\n",
              "      <th>year_account_created</th>\n",
              "      <th>date__account_created</th>\n",
              "      <th>week_account_created</th>\n",
              "      <th>day_first_active</th>\n",
              "      <th>month_first_active</th>\n",
              "      <th>year_first_active</th>\n",
              "      <th>date_first_active</th>\n",
              "      <th>week_first_active</th>\n",
              "      <th>days_between_tfa_dac</th>\n",
              "    </tr>\n",
              "  </thead>\n",
              "  <tbody>\n",
              "    <tr>\n",
              "      <th>0</th>\n",
              "      <td>gxn3p5htnn</td>\n",
              "      <td>2010-06-28</td>\n",
              "      <td>20090319043255</td>\n",
              "      <td>NaN</td>\n",
              "      <td>-unknown-</td>\n",
              "      <td>NaN</td>\n",
              "      <td>facebook</td>\n",
              "      <td>0</td>\n",
              "      <td>en</td>\n",
              "      <td>direct</td>\n",
              "      <td>direct</td>\n",
              "      <td>untracked</td>\n",
              "      <td>Web</td>\n",
              "      <td>Mac Desktop</td>\n",
              "      <td>Chrome</td>\n",
              "      <td>NDF</td>\n",
              "      <td>Monday</td>\n",
              "      <td>June</td>\n",
              "      <td>2010</td>\n",
              "      <td>28</td>\n",
              "      <td>26</td>\n",
              "      <td>Thursday</td>\n",
              "      <td>March</td>\n",
              "      <td>2009</td>\n",
              "      <td>19</td>\n",
              "      <td>12</td>\n",
              "      <td>465</td>\n",
              "    </tr>\n",
              "    <tr>\n",
              "      <th>1</th>\n",
              "      <td>820tgsjxq7</td>\n",
              "      <td>2011-05-25</td>\n",
              "      <td>20090523174809</td>\n",
              "      <td>NaN</td>\n",
              "      <td>MALE</td>\n",
              "      <td>38.0</td>\n",
              "      <td>facebook</td>\n",
              "      <td>0</td>\n",
              "      <td>en</td>\n",
              "      <td>seo</td>\n",
              "      <td>google</td>\n",
              "      <td>untracked</td>\n",
              "      <td>Web</td>\n",
              "      <td>Mac Desktop</td>\n",
              "      <td>Chrome</td>\n",
              "      <td>NDF</td>\n",
              "      <td>Wednesday</td>\n",
              "      <td>May</td>\n",
              "      <td>2011</td>\n",
              "      <td>25</td>\n",
              "      <td>21</td>\n",
              "      <td>Saturday</td>\n",
              "      <td>May</td>\n",
              "      <td>2009</td>\n",
              "      <td>23</td>\n",
              "      <td>21</td>\n",
              "      <td>731</td>\n",
              "    </tr>\n",
              "  </tbody>\n",
              "</table>\n",
              "</div>"
            ],
            "text/plain": [
              "           id date_account_created  ...  week_first_active days_between_tfa_dac\n",
              "0  gxn3p5htnn           2010-06-28  ...                 12                  465\n",
              "1  820tgsjxq7           2011-05-25  ...                 21                  731\n",
              "\n",
              "[2 rows x 27 columns]"
            ]
          },
          "metadata": {
            "tags": []
          },
          "execution_count": 27
        }
      ]
    },
    {
      "cell_type": "markdown",
      "metadata": {
        "id": "d5Ied956EUav"
      },
      "source": [
        "We drop date_first_booking column as mentioned before as test data has all null values for that column (new users)."
      ]
    },
    {
      "cell_type": "code",
      "metadata": {
        "id": "TbAqivDOCvL-"
      },
      "source": [
        "train.drop(['date_first_booking'], axis=1, inplace=True)\n",
        "test.drop(['date_first_booking'], axis=1, inplace=True)"
      ],
      "execution_count": null,
      "outputs": []
    },
    {
      "cell_type": "code",
      "metadata": {
        "colab": {
          "base_uri": "https://localhost:8080/",
          "height": 148
        },
        "id": "dW7zINzIVQAc",
        "outputId": "ee201bb9-8319-43d9-fb04-10191c708dbc"
      },
      "source": [
        "train.head(2)"
      ],
      "execution_count": null,
      "outputs": [
        {
          "output_type": "execute_result",
          "data": {
            "text/html": [
              "<div>\n",
              "<style scoped>\n",
              "    .dataframe tbody tr th:only-of-type {\n",
              "        vertical-align: middle;\n",
              "    }\n",
              "\n",
              "    .dataframe tbody tr th {\n",
              "        vertical-align: top;\n",
              "    }\n",
              "\n",
              "    .dataframe thead th {\n",
              "        text-align: right;\n",
              "    }\n",
              "</style>\n",
              "<table border=\"1\" class=\"dataframe\">\n",
              "  <thead>\n",
              "    <tr style=\"text-align: right;\">\n",
              "      <th></th>\n",
              "      <th>id</th>\n",
              "      <th>date_account_created</th>\n",
              "      <th>timestamp_first_active</th>\n",
              "      <th>gender</th>\n",
              "      <th>age</th>\n",
              "      <th>signup_method</th>\n",
              "      <th>signup_flow</th>\n",
              "      <th>language</th>\n",
              "      <th>affiliate_channel</th>\n",
              "      <th>affiliate_provider</th>\n",
              "      <th>first_affiliate_tracked</th>\n",
              "      <th>signup_app</th>\n",
              "      <th>first_device_type</th>\n",
              "      <th>first_browser</th>\n",
              "      <th>country_destination</th>\n",
              "      <th>day_account_created</th>\n",
              "      <th>month_account_created</th>\n",
              "      <th>year_account_created</th>\n",
              "      <th>date__account_created</th>\n",
              "      <th>week_account_created</th>\n",
              "      <th>day_first_active</th>\n",
              "      <th>month_first_active</th>\n",
              "      <th>year_first_active</th>\n",
              "      <th>date_first_active</th>\n",
              "      <th>week_first_active</th>\n",
              "      <th>days_between_tfa_dac</th>\n",
              "    </tr>\n",
              "  </thead>\n",
              "  <tbody>\n",
              "    <tr>\n",
              "      <th>0</th>\n",
              "      <td>gxn3p5htnn</td>\n",
              "      <td>2010-06-28</td>\n",
              "      <td>20090319043255</td>\n",
              "      <td>-unknown-</td>\n",
              "      <td>NaN</td>\n",
              "      <td>facebook</td>\n",
              "      <td>0</td>\n",
              "      <td>en</td>\n",
              "      <td>direct</td>\n",
              "      <td>direct</td>\n",
              "      <td>untracked</td>\n",
              "      <td>Web</td>\n",
              "      <td>Mac Desktop</td>\n",
              "      <td>Chrome</td>\n",
              "      <td>NDF</td>\n",
              "      <td>Monday</td>\n",
              "      <td>June</td>\n",
              "      <td>2010</td>\n",
              "      <td>28</td>\n",
              "      <td>26</td>\n",
              "      <td>Thursday</td>\n",
              "      <td>March</td>\n",
              "      <td>2009</td>\n",
              "      <td>19</td>\n",
              "      <td>12</td>\n",
              "      <td>465</td>\n",
              "    </tr>\n",
              "    <tr>\n",
              "      <th>1</th>\n",
              "      <td>820tgsjxq7</td>\n",
              "      <td>2011-05-25</td>\n",
              "      <td>20090523174809</td>\n",
              "      <td>MALE</td>\n",
              "      <td>38.0</td>\n",
              "      <td>facebook</td>\n",
              "      <td>0</td>\n",
              "      <td>en</td>\n",
              "      <td>seo</td>\n",
              "      <td>google</td>\n",
              "      <td>untracked</td>\n",
              "      <td>Web</td>\n",
              "      <td>Mac Desktop</td>\n",
              "      <td>Chrome</td>\n",
              "      <td>NDF</td>\n",
              "      <td>Wednesday</td>\n",
              "      <td>May</td>\n",
              "      <td>2011</td>\n",
              "      <td>25</td>\n",
              "      <td>21</td>\n",
              "      <td>Saturday</td>\n",
              "      <td>May</td>\n",
              "      <td>2009</td>\n",
              "      <td>23</td>\n",
              "      <td>21</td>\n",
              "      <td>731</td>\n",
              "    </tr>\n",
              "  </tbody>\n",
              "</table>\n",
              "</div>"
            ],
            "text/plain": [
              "           id date_account_created  ...  week_first_active days_between_tfa_dac\n",
              "0  gxn3p5htnn           2010-06-28  ...                 12                  465\n",
              "1  820tgsjxq7           2011-05-25  ...                 21                  731\n",
              "\n",
              "[2 rows x 26 columns]"
            ]
          },
          "metadata": {
            "tags": []
          },
          "execution_count": 29
        }
      ]
    },
    {
      "cell_type": "markdown",
      "metadata": {
        "id": "oqFnhrYm9QNh"
      },
      "source": [
        "Now let us have a look at age feature.\n",
        "\n",
        "Null values in age can be treated as null and be imputed using model/mean. Or else if users who are not providing age details have a trend, we should treat it separately by giving unique value to all those users.\n",
        "\n",
        "We first tried model based imputation. Then I found that users having missing age have an inclination towards NDF more. So we replaced null age with 1 and model performance increased. "
      ]
    },
    {
      "cell_type": "code",
      "metadata": {
        "colab": {
          "base_uri": "https://localhost:8080/"
        },
        "id": "mIXk2d2dCTN3",
        "outputId": "1a96c822-9fc4-4eb4-910b-c38232c35f7b"
      },
      "source": [
        "print(train.age.isnull().sum(),test.age.isnull().sum())\n",
        "train['age'] = train['age'].fillna(1)\n",
        "test['age'] = test['age'].fillna(1)\n",
        "print('After imputing',train.age.isnull().sum(),test.age.isnull().sum())"
      ],
      "execution_count": null,
      "outputs": [
        {
          "output_type": "stream",
          "text": [
            "88799 28885\n",
            "After imputing 0 0\n"
          ],
          "name": "stdout"
        }
      ]
    },
    {
      "cell_type": "markdown",
      "metadata": {
        "id": "_dStlavVJwJZ"
      },
      "source": [
        "Similarly for gender feature, there are almost half of users whose gender is unknown. But from the analysis I did, it has been found that users who are not specifying their gender while signing up are not interested in making a booking.\n",
        "\n",
        "So we leave unknown as a category. Also considering it so gave better results than imputing unknown with model based imputation."
      ]
    },
    {
      "cell_type": "code",
      "metadata": {
        "id": "4XIlvHboH5e8"
      },
      "source": [
        "train['gender'] = train['gender'].astype('str')\n",
        "test['gender'] = test['gender'].astype('str')"
      ],
      "execution_count": null,
      "outputs": []
    },
    {
      "cell_type": "code",
      "metadata": {
        "colab": {
          "base_uri": "https://localhost:8080/"
        },
        "id": "HCdSUlW8KM92",
        "outputId": "0187f126-2fb1-46fa-cb28-b47bcabc1536"
      },
      "source": [
        "set(train['gender'])"
      ],
      "execution_count": null,
      "outputs": [
        {
          "output_type": "execute_result",
          "data": {
            "text/plain": [
              "{'-unknown-', 'FEMALE', 'MALE', 'OTHER'}"
            ]
          },
          "metadata": {
            "tags": []
          },
          "execution_count": 32
        }
      ]
    },
    {
      "cell_type": "markdown",
      "metadata": {
        "id": "-8O0hd3gIccM"
      },
      "source": [
        "Now let us create a new feature if both age and gender are missing or only one of those is missing or none of them is missing."
      ]
    },
    {
      "cell_type": "code",
      "metadata": {
        "colab": {
          "base_uri": "https://localhost:8080/",
          "height": 258
        },
        "id": "VEnoauXVI9rY",
        "outputId": "af3c5cc4-fb8d-4288-ddda-70863ff5d970"
      },
      "source": [
        "#https://stackoverflow.com/questions/10272898/multiple-if-conditions-in-a-python-list-comprehension\n",
        "\n",
        "train['age_gender_missing'] = [(2 if (x==1 and y=='-unknown-') else (1 if (x==1 or y=='-unknown-') else 0)) for x,y in zip(train['age'],train['gender'])]\n",
        "train.head()"
      ],
      "execution_count": null,
      "outputs": [
        {
          "output_type": "execute_result",
          "data": {
            "text/html": [
              "<div>\n",
              "<style scoped>\n",
              "    .dataframe tbody tr th:only-of-type {\n",
              "        vertical-align: middle;\n",
              "    }\n",
              "\n",
              "    .dataframe tbody tr th {\n",
              "        vertical-align: top;\n",
              "    }\n",
              "\n",
              "    .dataframe thead th {\n",
              "        text-align: right;\n",
              "    }\n",
              "</style>\n",
              "<table border=\"1\" class=\"dataframe\">\n",
              "  <thead>\n",
              "    <tr style=\"text-align: right;\">\n",
              "      <th></th>\n",
              "      <th>id</th>\n",
              "      <th>date_account_created</th>\n",
              "      <th>timestamp_first_active</th>\n",
              "      <th>gender</th>\n",
              "      <th>age</th>\n",
              "      <th>signup_method</th>\n",
              "      <th>signup_flow</th>\n",
              "      <th>language</th>\n",
              "      <th>affiliate_channel</th>\n",
              "      <th>affiliate_provider</th>\n",
              "      <th>first_affiliate_tracked</th>\n",
              "      <th>signup_app</th>\n",
              "      <th>first_device_type</th>\n",
              "      <th>first_browser</th>\n",
              "      <th>country_destination</th>\n",
              "      <th>day_account_created</th>\n",
              "      <th>month_account_created</th>\n",
              "      <th>year_account_created</th>\n",
              "      <th>date__account_created</th>\n",
              "      <th>week_account_created</th>\n",
              "      <th>day_first_active</th>\n",
              "      <th>month_first_active</th>\n",
              "      <th>year_first_active</th>\n",
              "      <th>date_first_active</th>\n",
              "      <th>week_first_active</th>\n",
              "      <th>days_between_tfa_dac</th>\n",
              "      <th>age_gender_missing</th>\n",
              "    </tr>\n",
              "  </thead>\n",
              "  <tbody>\n",
              "    <tr>\n",
              "      <th>0</th>\n",
              "      <td>gxn3p5htnn</td>\n",
              "      <td>2010-06-28</td>\n",
              "      <td>20090319043255</td>\n",
              "      <td>-unknown-</td>\n",
              "      <td>1.0</td>\n",
              "      <td>facebook</td>\n",
              "      <td>0</td>\n",
              "      <td>en</td>\n",
              "      <td>direct</td>\n",
              "      <td>direct</td>\n",
              "      <td>untracked</td>\n",
              "      <td>Web</td>\n",
              "      <td>Mac Desktop</td>\n",
              "      <td>Chrome</td>\n",
              "      <td>NDF</td>\n",
              "      <td>Monday</td>\n",
              "      <td>June</td>\n",
              "      <td>2010</td>\n",
              "      <td>28</td>\n",
              "      <td>26</td>\n",
              "      <td>Thursday</td>\n",
              "      <td>March</td>\n",
              "      <td>2009</td>\n",
              "      <td>19</td>\n",
              "      <td>12</td>\n",
              "      <td>465</td>\n",
              "      <td>2</td>\n",
              "    </tr>\n",
              "    <tr>\n",
              "      <th>1</th>\n",
              "      <td>820tgsjxq7</td>\n",
              "      <td>2011-05-25</td>\n",
              "      <td>20090523174809</td>\n",
              "      <td>MALE</td>\n",
              "      <td>38.0</td>\n",
              "      <td>facebook</td>\n",
              "      <td>0</td>\n",
              "      <td>en</td>\n",
              "      <td>seo</td>\n",
              "      <td>google</td>\n",
              "      <td>untracked</td>\n",
              "      <td>Web</td>\n",
              "      <td>Mac Desktop</td>\n",
              "      <td>Chrome</td>\n",
              "      <td>NDF</td>\n",
              "      <td>Wednesday</td>\n",
              "      <td>May</td>\n",
              "      <td>2011</td>\n",
              "      <td>25</td>\n",
              "      <td>21</td>\n",
              "      <td>Saturday</td>\n",
              "      <td>May</td>\n",
              "      <td>2009</td>\n",
              "      <td>23</td>\n",
              "      <td>21</td>\n",
              "      <td>731</td>\n",
              "      <td>0</td>\n",
              "    </tr>\n",
              "    <tr>\n",
              "      <th>2</th>\n",
              "      <td>4ft3gnwmtx</td>\n",
              "      <td>2010-09-28</td>\n",
              "      <td>20090609231247</td>\n",
              "      <td>FEMALE</td>\n",
              "      <td>56.0</td>\n",
              "      <td>basic</td>\n",
              "      <td>3</td>\n",
              "      <td>en</td>\n",
              "      <td>direct</td>\n",
              "      <td>direct</td>\n",
              "      <td>untracked</td>\n",
              "      <td>Web</td>\n",
              "      <td>Windows Desktop</td>\n",
              "      <td>IE</td>\n",
              "      <td>US</td>\n",
              "      <td>Tuesday</td>\n",
              "      <td>September</td>\n",
              "      <td>2010</td>\n",
              "      <td>28</td>\n",
              "      <td>39</td>\n",
              "      <td>Tuesday</td>\n",
              "      <td>June</td>\n",
              "      <td>2009</td>\n",
              "      <td>9</td>\n",
              "      <td>24</td>\n",
              "      <td>475</td>\n",
              "      <td>0</td>\n",
              "    </tr>\n",
              "    <tr>\n",
              "      <th>3</th>\n",
              "      <td>bjjt8pjhuk</td>\n",
              "      <td>2011-12-05</td>\n",
              "      <td>20091031060129</td>\n",
              "      <td>FEMALE</td>\n",
              "      <td>42.0</td>\n",
              "      <td>facebook</td>\n",
              "      <td>0</td>\n",
              "      <td>en</td>\n",
              "      <td>direct</td>\n",
              "      <td>direct</td>\n",
              "      <td>untracked</td>\n",
              "      <td>Web</td>\n",
              "      <td>Mac Desktop</td>\n",
              "      <td>Firefox</td>\n",
              "      <td>other</td>\n",
              "      <td>Monday</td>\n",
              "      <td>December</td>\n",
              "      <td>2011</td>\n",
              "      <td>5</td>\n",
              "      <td>49</td>\n",
              "      <td>Saturday</td>\n",
              "      <td>October</td>\n",
              "      <td>2009</td>\n",
              "      <td>31</td>\n",
              "      <td>44</td>\n",
              "      <td>764</td>\n",
              "      <td>0</td>\n",
              "    </tr>\n",
              "    <tr>\n",
              "      <th>4</th>\n",
              "      <td>87mebub9p4</td>\n",
              "      <td>2010-09-14</td>\n",
              "      <td>20091208061105</td>\n",
              "      <td>-unknown-</td>\n",
              "      <td>41.0</td>\n",
              "      <td>basic</td>\n",
              "      <td>0</td>\n",
              "      <td>en</td>\n",
              "      <td>direct</td>\n",
              "      <td>direct</td>\n",
              "      <td>untracked</td>\n",
              "      <td>Web</td>\n",
              "      <td>Mac Desktop</td>\n",
              "      <td>Chrome</td>\n",
              "      <td>US</td>\n",
              "      <td>Tuesday</td>\n",
              "      <td>September</td>\n",
              "      <td>2010</td>\n",
              "      <td>14</td>\n",
              "      <td>37</td>\n",
              "      <td>Tuesday</td>\n",
              "      <td>December</td>\n",
              "      <td>2009</td>\n",
              "      <td>8</td>\n",
              "      <td>50</td>\n",
              "      <td>279</td>\n",
              "      <td>1</td>\n",
              "    </tr>\n",
              "  </tbody>\n",
              "</table>\n",
              "</div>"
            ],
            "text/plain": [
              "           id date_account_created  ...  days_between_tfa_dac age_gender_missing\n",
              "0  gxn3p5htnn           2010-06-28  ...                   465                  2\n",
              "1  820tgsjxq7           2011-05-25  ...                   731                  0\n",
              "2  4ft3gnwmtx           2010-09-28  ...                   475                  0\n",
              "3  bjjt8pjhuk           2011-12-05  ...                   764                  0\n",
              "4  87mebub9p4           2010-09-14  ...                   279                  1\n",
              "\n",
              "[5 rows x 27 columns]"
            ]
          },
          "metadata": {
            "tags": []
          },
          "execution_count": 33
        }
      ]
    },
    {
      "cell_type": "code",
      "metadata": {
        "id": "bU_IPA9YKySN"
      },
      "source": [
        "test['age_gender_missing'] = [(2 if (x==1 and y=='-unknown-') else (1 if (x==1 or y=='-unknown-') else 0)) for x,y in zip(test['age'],test['gender'])]"
      ],
      "execution_count": null,
      "outputs": []
    },
    {
      "cell_type": "markdown",
      "metadata": {
        "id": "Oha82zGdb8mO"
      },
      "source": [
        "Let us quickly go through other features. Among other categorical features, first_affiliate_tracked has some null values. So we will impute them with most occuring category (mode)."
      ]
    },
    {
      "cell_type": "code",
      "metadata": {
        "colab": {
          "base_uri": "https://localhost:8080/"
        },
        "id": "uMGVhDN6cCw6",
        "outputId": "81fae411-3bf6-4481-ff3e-55024d3ab0eb"
      },
      "source": [
        "#Check number of null values in first_affiliate_tracked feature\n",
        "train['first_affiliate_tracked'].isnull().sum()"
      ],
      "execution_count": null,
      "outputs": [
        {
          "output_type": "execute_result",
          "data": {
            "text/plain": [
              "6065"
            ]
          },
          "metadata": {
            "tags": []
          },
          "execution_count": 35
        }
      ]
    },
    {
      "cell_type": "code",
      "metadata": {
        "colab": {
          "base_uri": "https://localhost:8080/",
          "height": 280
        },
        "id": "au-YHBBT4u5_",
        "outputId": "a87eca57-1866-4754-8710-2a1132b4adde"
      },
      "source": [
        "plot = sns.countplot(x='country_destination',data=train[train['first_affiliate_tracked'].isnull()])"
      ],
      "execution_count": null,
      "outputs": [
        {
          "output_type": "display_data",
          "data": {
            "image/png": "[encoded data removed]",
            "text/plain": [
              "<Figure size 432x288 with 1 Axes>"
            ]
          },
          "metadata": {
            "tags": [],
            "needs_background": "light"
          }
        }
      ]
    },
    {
      "cell_type": "markdown",
      "metadata": {
        "id": "GBcY8qW_3MRY"
      },
      "source": [
        "Since there is an inclination towards NDF in users who has first_affiliate_tracked null, we will replace null values with a new category.\n",
        "\n",
        "To do that we can just convert the feature to string such that 'nan' will be treated as a category"
      ]
    },
    {
      "cell_type": "code",
      "metadata": {
        "colab": {
          "base_uri": "https://localhost:8080/"
        },
        "id": "LtHVSyHI2Rqg",
        "outputId": "6430fa20-d8e0-4414-e754-d98e09c2cfc7"
      },
      "source": [
        "#Check most occuring first_affiliate_tracked to replace the null values with\n",
        "train['first_affiliate_tracked'] = train['first_affiliate_tracked'].astype('str')\n",
        "test['first_affiliate_tracked'] = test['first_affiliate_tracked'].astype('str')\n",
        "np.unique(train['first_affiliate_tracked'], return_counts=True)"
      ],
      "execution_count": null,
      "outputs": [
        {
          "output_type": "execute_result",
          "data": {
            "text/plain": [
              "(array(['linked', 'local ops', 'marketing', 'nan', 'omg', 'product',\n",
              "        'tracked-other', 'untracked'], dtype=object),\n",
              " array([ 46287,     34,    139,   6065,  43982,   1556,   6156, 109232]))"
            ]
          },
          "metadata": {
            "tags": []
          },
          "execution_count": 37
        }
      ]
    },
    {
      "cell_type": "code",
      "metadata": {
        "id": "zkx4Uy2P49qq"
      },
      "source": [
        "#Since signup_flow is categorical data we convert it to string\n",
        "train['signup_flow'] = train['signup_flow'].astype('str')\n",
        "test['signup_flow'] = test['signup_flow'].astype('str')"
      ],
      "execution_count": null,
      "outputs": []
    },
    {
      "cell_type": "code",
      "metadata": {
        "id": "1Hft4KNw529Z"
      },
      "source": [
        "from sklearn.preprocessing import OneHotEncoder, LabelEncoder\n",
        "from sklearn.linear_model import LogisticRegression\n",
        "from sklearn.neighbors import KNeighborsRegressor\n",
        "from sklearn.linear_model import LinearRegression\n",
        "from sklearn.tree import DecisionTreeRegressor, DecisionTreeClassifier\n",
        "from sklearn.ensemble import RandomForestClassifier, RandomForestRegressor\n",
        "from xgboost import XGBClassifier, XGBRegressor\n",
        "from sklearn.model_selection import train_test_split\n",
        "from sklearn.model_selection import RandomizedSearchCV\n",
        "import sklearn\n",
        "from sklearn.metrics import make_scorer, ndcg_score"
      ],
      "execution_count": null,
      "outputs": []
    },
    {
      "cell_type": "code",
      "metadata": {
        "colab": {
          "base_uri": "https://localhost:8080/"
        },
        "id": "ovVALEIR5ESj",
        "outputId": "4d229db0-029c-403a-afa4-32d7ab1d09eb"
      },
      "source": [
        "train.columns"
      ],
      "execution_count": null,
      "outputs": [
        {
          "output_type": "execute_result",
          "data": {
            "text/plain": [
              "Index(['id', 'date_account_created', 'timestamp_first_active', 'gender', 'age',\n",
              "       'signup_method', 'signup_flow', 'language', 'affiliate_channel',\n",
              "       'affiliate_provider', 'first_affiliate_tracked', 'signup_app',\n",
              "       'first_device_type', 'first_browser', 'country_destination',\n",
              "       'day_account_created', 'month_account_created', 'year_account_created',\n",
              "       'date__account_created', 'week_account_created', 'day_first_active',\n",
              "       'month_first_active', 'year_first_active', 'date_first_active',\n",
              "       'week_first_active', 'days_between_tfa_dac', 'age_gender_missing'],\n",
              "      dtype='object')"
            ]
          },
          "metadata": {
            "tags": []
          },
          "execution_count": 40
        }
      ]
    },
    {
      "cell_type": "markdown",
      "metadata": {
        "id": "lVeQX2g-a7uV"
      },
      "source": [
        "We will try to create new features using the other given datasets"
      ]
    },
    {
      "cell_type": "markdown",
      "metadata": {
        "id": "PazKVq-r4HwG"
      },
      "source": [
        "Lets create features from Sessions data"
      ]
    },
    {
      "cell_type": "code",
      "metadata": {
        "colab": {
          "base_uri": "https://localhost:8080/",
          "height": 111
        },
        "id": "YiBynejo4N9g",
        "outputId": "23bc8811-64df-4a57-b2fb-58cb24f1f1d7"
      },
      "source": [
        "sessions.head(2)"
      ],
      "execution_count": null,
      "outputs": [
        {
          "output_type": "execute_result",
          "data": {
            "text/html": [
              "<div>\n",
              "<style scoped>\n",
              "    .dataframe tbody tr th:only-of-type {\n",
              "        vertical-align: middle;\n",
              "    }\n",
              "\n",
              "    .dataframe tbody tr th {\n",
              "        vertical-align: top;\n",
              "    }\n",
              "\n",
              "    .dataframe thead th {\n",
              "        text-align: right;\n",
              "    }\n",
              "</style>\n",
              "<table border=\"1\" class=\"dataframe\">\n",
              "  <thead>\n",
              "    <tr style=\"text-align: right;\">\n",
              "      <th></th>\n",
              "      <th>user_id</th>\n",
              "      <th>action</th>\n",
              "      <th>action_type</th>\n",
              "      <th>action_detail</th>\n",
              "      <th>device_type</th>\n",
              "      <th>secs_elapsed</th>\n",
              "    </tr>\n",
              "  </thead>\n",
              "  <tbody>\n",
              "    <tr>\n",
              "      <th>0</th>\n",
              "      <td>d1mm9tcy42</td>\n",
              "      <td>lookup</td>\n",
              "      <td>NaN</td>\n",
              "      <td>NaN</td>\n",
              "      <td>Windows Desktop</td>\n",
              "      <td>319.0</td>\n",
              "    </tr>\n",
              "    <tr>\n",
              "      <th>1</th>\n",
              "      <td>d1mm9tcy42</td>\n",
              "      <td>search_results</td>\n",
              "      <td>click</td>\n",
              "      <td>view_search_results</td>\n",
              "      <td>Windows Desktop</td>\n",
              "      <td>67753.0</td>\n",
              "    </tr>\n",
              "  </tbody>\n",
              "</table>\n",
              "</div>"
            ],
            "text/plain": [
              "      user_id          action  ...      device_type secs_elapsed\n",
              "0  d1mm9tcy42          lookup  ...  Windows Desktop        319.0\n",
              "1  d1mm9tcy42  search_results  ...  Windows Desktop      67753.0\n",
              "\n",
              "[2 rows x 6 columns]"
            ]
          },
          "metadata": {
            "tags": []
          },
          "execution_count": 41
        }
      ]
    },
    {
      "cell_type": "code",
      "metadata": {
        "id": "o3IE2ScQD21I"
      },
      "source": [
        "def session_features(feature_name, feature_values):\n",
        "\n",
        "  '''Create features in train and test data using dictionary obtained using grouping of sessions data '''\n",
        "\n",
        "  #fetch values from dictionary and create new features in train and test data.\n",
        "  train[feature_name] = [feature_values.get(x,-1) for x in train['id']]\n",
        "  test[feature_name] = [feature_values.get(x,-1) for x in test['id']]\n"
      ],
      "execution_count": null,
      "outputs": []
    },
    {
      "cell_type": "markdown",
      "metadata": {
        "id": "W5FkxATM8kG6"
      },
      "source": [
        "For 65% of users in train data, there is no data in sessions table. We shall try mean imputation method and then model based method to impute these values. (We can't try median based because median is 0 as more than 50% of values are 0s.\n"
      ]
    },
    {
      "cell_type": "code",
      "metadata": {
        "id": "qy7MGpRit7oq"
      },
      "source": [
        "#Removing outliers. threshold is calculated at the box plot's whisker edge.\n",
        "threshold = 8444+(1.5*(8444-229))\n",
        "sessions = sessions[sessions['secs_elapsed']<threshold]"
      ],
      "execution_count": null,
      "outputs": []
    },
    {
      "cell_type": "code",
      "metadata": {
        "id": "EPBUvmvD_8fn"
      },
      "source": [
        "#create mean elapsed session time per user\n",
        "mean_elapsed_times = sessions.groupby('user_id')['secs_elapsed'].mean().to_dict()\n",
        "session_features('mean_session_time',mean_elapsed_times)"
      ],
      "execution_count": null,
      "outputs": []
    },
    {
      "cell_type": "code",
      "metadata": {
        "id": "Dmpo66ES_XCP"
      },
      "source": [
        "#create total elapsed session time per user\n",
        "total_elapsed_times = sessions.groupby('user_id')['secs_elapsed'].sum().to_dict()\n",
        "session_features('total_session_time',total_elapsed_times)"
      ],
      "execution_count": null,
      "outputs": []
    },
    {
      "cell_type": "code",
      "metadata": {
        "id": "XfyTMhAeAdnE"
      },
      "source": [
        "#create number of sessions performed by a user\n",
        "sessions_per_user = sessions.groupby('user_id').count()['secs_elapsed'].to_dict()\n",
        "session_features('sessions_per_user',sessions_per_user)"
      ],
      "execution_count": null,
      "outputs": []
    },
    {
      "cell_type": "code",
      "metadata": {
        "id": "4LDJzAzkLY0g"
      },
      "source": [
        "#create number of unique device types used by a user\n",
        "#https://stackoverflow.com/questions/38309729/count-unique-values-with-pandas-per-groups/38309807\n",
        "unique_devices_per_user = sessions.groupby('user_id')['device_type'].nunique()\n",
        "session_features('unique_devices_per_user',unique_devices_per_user)\n",
        "\n",
        "train['unique_devices_per_user'].replace(-1,train['unique_devices_per_user'].mean(), inplace=True)\n",
        "test['unique_devices_per_user'].replace(-1,test['unique_devices_per_user'].mean(), inplace=True)"
      ],
      "execution_count": null,
      "outputs": []
    },
    {
      "cell_type": "code",
      "metadata": {
        "id": "QnJVQHibAE8o"
      },
      "source": [
        "#Changing to string to identify null values\n",
        "sessions['action_type'] = sessions['action_type'].astype('str')\n",
        "sessions['action'] = sessions['action'].astype('str')\n",
        "sessions['action_detail'] = sessions['action_detail'].astype('str')\n",
        "sessions['device_type'] = sessions['device_type'].astype('str')"
      ],
      "execution_count": null,
      "outputs": []
    },
    {
      "cell_type": "code",
      "metadata": {
        "colab": {
          "base_uri": "https://localhost:8080/",
          "height": 450
        },
        "id": "3OMw7L9hN6_T",
        "outputId": "d2ec9175-22e7-4329-d816-8aa0eaf146ce"
      },
      "source": [
        "#Most occuring action related features\n",
        "#https://www.semicolonworld.com/question/53190/groupby-pandas-dataframe-and-select-most-common-value\n",
        "most_occuring_categories = sessions.groupby(['user_id']).agg(lambda x:x.value_counts().index[0])\n",
        "most_occuring_categories"
      ],
      "execution_count": null,
      "outputs": [
        {
          "output_type": "execute_result",
          "data": {
            "text/html": [
              "<div>\n",
              "<style scoped>\n",
              "    .dataframe tbody tr th:only-of-type {\n",
              "        vertical-align: middle;\n",
              "    }\n",
              "\n",
              "    .dataframe tbody tr th {\n",
              "        vertical-align: top;\n",
              "    }\n",
              "\n",
              "    .dataframe thead th {\n",
              "        text-align: right;\n",
              "    }\n",
              "</style>\n",
              "<table border=\"1\" class=\"dataframe\">\n",
              "  <thead>\n",
              "    <tr style=\"text-align: right;\">\n",
              "      <th></th>\n",
              "      <th>action</th>\n",
              "      <th>action_type</th>\n",
              "      <th>action_detail</th>\n",
              "      <th>device_type</th>\n",
              "      <th>secs_elapsed</th>\n",
              "    </tr>\n",
              "    <tr>\n",
              "      <th>user_id</th>\n",
              "      <th></th>\n",
              "      <th></th>\n",
              "      <th></th>\n",
              "      <th></th>\n",
              "      <th></th>\n",
              "    </tr>\n",
              "  </thead>\n",
              "  <tbody>\n",
              "    <tr>\n",
              "      <th>00023iyk9l</th>\n",
              "      <td>show</td>\n",
              "      <td>view</td>\n",
              "      <td>p3</td>\n",
              "      <td>Mac Desktop</td>\n",
              "      <td>820.0</td>\n",
              "    </tr>\n",
              "    <tr>\n",
              "      <th>0010k6l0om</th>\n",
              "      <td>show</td>\n",
              "      <td>click</td>\n",
              "      <td>nan</td>\n",
              "      <td>Mac Desktop</td>\n",
              "      <td>847.0</td>\n",
              "    </tr>\n",
              "    <tr>\n",
              "      <th>001wyh0pz8</th>\n",
              "      <td>search</td>\n",
              "      <td>click</td>\n",
              "      <td>view_search_results</td>\n",
              "      <td>Android App Unknown Phone/Tablet</td>\n",
              "      <td>623.0</td>\n",
              "    </tr>\n",
              "    <tr>\n",
              "      <th>0028jgx1x1</th>\n",
              "      <td>show</td>\n",
              "      <td>view</td>\n",
              "      <td>p3</td>\n",
              "      <td>-unknown-</td>\n",
              "      <td>10855.0</td>\n",
              "    </tr>\n",
              "    <tr>\n",
              "      <th>002qnbzfs5</th>\n",
              "      <td>show</td>\n",
              "      <td>view</td>\n",
              "      <td>-unknown-</td>\n",
              "      <td>iPhone</td>\n",
              "      <td>1.0</td>\n",
              "    </tr>\n",
              "    <tr>\n",
              "      <th>...</th>\n",
              "      <td>...</td>\n",
              "      <td>...</td>\n",
              "      <td>...</td>\n",
              "      <td>...</td>\n",
              "      <td>...</td>\n",
              "    </tr>\n",
              "    <tr>\n",
              "      <th>zzxox7jnrx</th>\n",
              "      <td>show</td>\n",
              "      <td>click</td>\n",
              "      <td>nan</td>\n",
              "      <td>Windows Desktop</td>\n",
              "      <td>10781.0</td>\n",
              "    </tr>\n",
              "    <tr>\n",
              "      <th>zzy7t0y9cm</th>\n",
              "      <td>header_userpic</td>\n",
              "      <td>data</td>\n",
              "      <td>header_userpic</td>\n",
              "      <td>Windows Desktop</td>\n",
              "      <td>10.0</td>\n",
              "    </tr>\n",
              "    <tr>\n",
              "      <th>zzysuoqg6x</th>\n",
              "      <td>header_userpic</td>\n",
              "      <td>-unknown-</td>\n",
              "      <td>-unknown-</td>\n",
              "      <td>Windows Desktop</td>\n",
              "      <td>198.0</td>\n",
              "    </tr>\n",
              "    <tr>\n",
              "      <th>zzywmcn0jv</th>\n",
              "      <td>show</td>\n",
              "      <td>data</td>\n",
              "      <td>similar_listings</td>\n",
              "      <td>Windows Desktop</td>\n",
              "      <td>7346.0</td>\n",
              "    </tr>\n",
              "    <tr>\n",
              "      <th>zzzlylp57e</th>\n",
              "      <td>show</td>\n",
              "      <td>click</td>\n",
              "      <td>view_search_results</td>\n",
              "      <td>Windows Desktop</td>\n",
              "      <td>0.0</td>\n",
              "    </tr>\n",
              "  </tbody>\n",
              "</table>\n",
              "<p>133535 rows × 5 columns</p>\n",
              "</div>"
            ],
            "text/plain": [
              "                    action  ... secs_elapsed\n",
              "user_id                     ...             \n",
              "00023iyk9l            show  ...        820.0\n",
              "0010k6l0om            show  ...        847.0\n",
              "001wyh0pz8          search  ...        623.0\n",
              "0028jgx1x1            show  ...      10855.0\n",
              "002qnbzfs5            show  ...          1.0\n",
              "...                    ...  ...          ...\n",
              "zzxox7jnrx            show  ...      10781.0\n",
              "zzy7t0y9cm  header_userpic  ...         10.0\n",
              "zzysuoqg6x  header_userpic  ...        198.0\n",
              "zzywmcn0jv            show  ...       7346.0\n",
              "zzzlylp57e            show  ...          0.0\n",
              "\n",
              "[133535 rows x 5 columns]"
            ]
          },
          "metadata": {
            "tags": []
          },
          "execution_count": 49
        }
      ]
    },
    {
      "cell_type": "code",
      "metadata": {
        "id": "JwozHdrwRbVo"
      },
      "source": [
        "most_occuring_action = most_occuring_categories['action'].to_dict()\n",
        "most_occuring_action_type = most_occuring_categories['action_type'].to_dict()\n",
        "most_occuring_action_detail = most_occuring_categories['action_detail'].to_dict()\n",
        "most_used_device = most_occuring_categories['device_type'].to_dict()\n",
        "\n",
        "#fetch values from dictionary and create new features in train and test data.\n",
        "train['most_occuring_action'] = [most_occuring_action.get(x,'nan') for x in train['id']]\n",
        "test['most_occuring_action'] = [most_occuring_action.get(x,'nan') for x in test['id']]\n",
        "\n",
        "#fetch values from dictionary and create new features in train and test data.\n",
        "train['most_occuring_action_type'] = [most_occuring_action_type.get(x,'nan') for x in train['id']]\n",
        "test['most_occuring_action_type'] = [most_occuring_action_type.get(x,'nan') for x in test['id']]\n",
        "\n",
        "#fetch values from dictionary and create new features in train and test data.\n",
        "train['most_occuring_action_detail'] = [most_occuring_action_detail.get(x,'nan') for x in train['id']]\n",
        "test['most_occuring_action_detail'] = [most_occuring_action_detail.get(x,'nan') for x in test['id']]\n",
        "\n",
        "#fetch values from dictionary and create new features in train and test data.\n",
        "train['most_used_device'] = [most_used_device.get(x,'nan') for x in train['id']]\n",
        "test['most_used_device'] = [most_used_device.get(x,'nan') for x in test['id']]"
      ],
      "execution_count": null,
      "outputs": []
    },
    {
      "cell_type": "code",
      "metadata": {
        "id": "05cGBhR6fFRN"
      },
      "source": [
        "#To get action_type and secs_elapsed that has maximum elapsed session time per user \n",
        "groups = sessions.groupby('user_id')\n",
        "vals=[]\n",
        "for name,group in groups:\n",
        "  try:\n",
        "    x = group[group['secs_elapsed']==group['secs_elapsed'].max()][['action_type','action','secs_elapsed']].values\n",
        "    vals.append((name,x[0][0],x[0][1],x[0][2]))\n",
        "  except:\n",
        "    continue\n",
        "df = pd.DataFrame(vals)\n",
        "df = df.set_index(0)\n",
        "\n",
        "train['max_elapsed_action_type'] = [df.loc[x][1] if x in df.index else 'nan' for x in train['id']]\n",
        "test['max_elapsed_action_type'] = [df.loc[x][1] if x in df.index else 'nan' for x in test['id']]\n",
        "\n",
        "train['max_elapsed_action'] = [df.loc[x][2] if x in df.index else 'nan' for x in train['id']]\n",
        "test['max_elapsed_action'] = [df.loc[x][2] if x in df.index else 'nan' for x in test['id']]\n",
        "\n",
        "train['max_elapsed_time'] = [df.loc[x][3] if x in df.index else -1 for x in train['id']]\n",
        "test['max_elapsed_time'] = [df.loc[x][3] if x in df.index else -1 for x in test['id']]\n"
      ],
      "execution_count": null,
      "outputs": []
    },
    {
      "cell_type": "code",
      "metadata": {
        "id": "PHH4mZi-4BWD"
      },
      "source": [
        "#Take all categorical variables into a list to encode them.\n",
        "cat_cols = ['gender', 'signup_method', 'signup_flow', 'language', 'affiliate_channel',\n",
        "       'affiliate_provider', 'first_affiliate_tracked', 'signup_app',\n",
        "       'first_device_type', 'first_browser', 'day_account_created', 'month_account_created', 'year_account_created',\n",
        "       'date__account_created', 'week_account_created', 'day_first_active',\n",
        "       'month_first_active', 'year_first_active', 'date_first_active',\n",
        "       'week_first_active','age_gender_missing']"
      ],
      "execution_count": null,
      "outputs": []
    },
    {
      "cell_type": "code",
      "metadata": {
        "id": "ZVLoICiwXLWw"
      },
      "source": [
        "def impute_nulls(feature,feature_type):\n",
        "\n",
        "  '''Function to impute null values in a feature. \n",
        "  We will take the non-null data to train and encode all categorical columns (as age is only numerical and also it has null values)\n",
        "  and fit the data and predict with data that has null values in train and test data '''\n",
        "    \n",
        "  #Separate null valued rows of given feature from train and test  \n",
        "  if feature_type=='numerical':\n",
        "    non_null_train = train[train[feature]!=-1]\n",
        "    null_train = train[train[feature]==-1]\n",
        "    null_test = test[test[feature]==-1]\n",
        "    model = DecisionTreeRegressor(max_depth=5)\n",
        "\n",
        "  if feature_type=='categorical':\n",
        "    non_null_train = train[train[feature]!='nan']\n",
        "    null_train = train[train[feature]=='nan']\n",
        "    null_test = test[test[feature]=='nan']\n",
        "    model = DecisionTreeClassifier(max_depth=5)\n",
        "\n",
        "  #Encode categorical features to pass them to imputing model\n",
        "  encoder = OneHotEncoder(handle_unknown='ignore')\n",
        "  encoder.fit(non_null_train[cat_cols])\n",
        "  non_null_train_encoded = encoder.transform(non_null_train[cat_cols]).toarray()\n",
        "  null_train_encoded = encoder.transform(null_train[cat_cols]).toarray()\n",
        "  null_test_encoded = encoder.transform(null_test[cat_cols]).toarray()\n",
        "  \n",
        "  print(non_null_train_encoded.shape,null_train_encoded.shape, null_test_encoded.shape)\n",
        "\n",
        "  y_train =  non_null_train[feature]\n",
        "\n",
        "  model.fit(non_null_train_encoded, y_train)\n",
        "  imputed_null_train = model.predict(null_train_encoded)\n",
        "  imputed_null_test = model.predict(null_test_encoded)\n",
        "\n",
        "  #Replace null values with predictions in train and test data\n",
        "  train.loc[null_train.index, feature] = imputed_null_train\n",
        "  test.loc[null_test.index, feature] = imputed_null_test\n",
        "\n",
        "  print(\"Null values for \",feature,\" feature are successfully imputed\")\n"
      ],
      "execution_count": null,
      "outputs": []
    },
    {
      "cell_type": "code",
      "metadata": {
        "colab": {
          "base_uri": "https://localhost:8080/"
        },
        "id": "CRzf0e3ti_L4",
        "outputId": "973701b7-550a-4e48-8043-379968991eee"
      },
      "source": [
        "sessions_numcols = ['mean_session_time','total_session_time','sessions_per_user','max_elapsed_time']\n",
        "sessions_catcols = ['max_elapsed_action_type','max_elapsed_action','most_occuring_action','most_occuring_action_type','most_occuring_action_detail',\n",
        "                    'most_used_device']\n",
        "for col in sessions_catcols:\n",
        "  impute_nulls(col,'categorical')  \n",
        "for col in sessions_numcols:\n",
        "  impute_nulls(col,'numerical')  "
      ],
      "execution_count": null,
      "outputs": [
        {
          "output_type": "stream",
          "text": [
            "(70200, 266) (143251, 266) (3233, 266)\n",
            "Null values for  max_elapsed_action_type  feature are successfully imputed\n",
            "(71368, 266) (142083, 266) (1112, 266)\n",
            "Null values for  max_elapsed_action  feature are successfully imputed\n",
            "(72094, 266) (141357, 266) (762, 266)\n",
            "Null values for  most_occuring_action  feature are successfully imputed\n",
            "(67861, 266) (145590, 266) (4248, 266)\n",
            "Null values for  most_occuring_action_type  feature are successfully imputed\n",
            "(61728, 264) (151723, 264) (10793, 264)\n",
            "Null values for  most_occuring_action_detail  feature are successfully imputed\n",
            "(72184, 266) (141267, 266) (745, 266)\n",
            "Null values for  most_used_device  feature are successfully imputed\n",
            "(72184, 266) (141267, 266) (745, 266)\n",
            "Null values for  mean_session_time  feature are successfully imputed\n",
            "(72184, 266) (141267, 266) (745, 266)\n",
            "Null values for  total_session_time  feature are successfully imputed\n",
            "(72184, 266) (141267, 266) (745, 266)\n",
            "Null values for  sessions_per_user  feature are successfully imputed\n",
            "(72184, 266) (141267, 266) (745, 266)\n",
            "Null values for  max_elapsed_time  feature are successfully imputed\n"
          ],
          "name": "stdout"
        }
      ]
    },
    {
      "cell_type": "code",
      "metadata": {
        "colab": {
          "base_uri": "https://localhost:8080/"
        },
        "id": "Z3fAsS0FvKTr",
        "outputId": "41bd8567-d56d-4403-814b-294d774934e1"
      },
      "source": [
        "!pip install phik"
      ],
      "execution_count": null,
      "outputs": [
        {
          "output_type": "stream",
          "text": [
            "Collecting phik\n",
            "\u001b[?25l  Downloading https://files.pythonhosted.org/packages/01/5a/7ef1c04ce62cd72f900c06298dc2385840550d5c653a0dbc19109a5477e6/phik-0.10.0-py3-none-any.whl (599kB)\n",
            "\u001b[K     |████████████████████████████████| 604kB 11.2MB/s \n",
            "\u001b[?25hRequirement already satisfied: numba>=0.38.1 in /usr/local/lib/python3.6/dist-packages (from phik) (0.48.0)\n",
            "Requirement already satisfied: scipy>=1.1.0 in /usr/local/lib/python3.6/dist-packages (from phik) (1.4.1)\n",
            "Requirement already satisfied: numpy>=1.15.4 in /usr/local/lib/python3.6/dist-packages (from phik) (1.18.5)\n",
            "Requirement already satisfied: joblib>=0.14.1 in /usr/local/lib/python3.6/dist-packages (from phik) (0.17.0)\n",
            "Requirement already satisfied: pandas>=0.23.4 in /usr/local/lib/python3.6/dist-packages (from phik) (1.1.4)\n",
            "Requirement already satisfied: matplotlib>=2.2.3 in /usr/local/lib/python3.6/dist-packages (from phik) (3.2.2)\n",
            "Requirement already satisfied: setuptools in /usr/local/lib/python3.6/dist-packages (from numba>=0.38.1->phik) (50.3.2)\n",
            "Requirement already satisfied: llvmlite<0.32.0,>=0.31.0dev0 in /usr/local/lib/python3.6/dist-packages (from numba>=0.38.1->phik) (0.31.0)\n",
            "Requirement already satisfied: pytz>=2017.2 in /usr/local/lib/python3.6/dist-packages (from pandas>=0.23.4->phik) (2018.9)\n",
            "Requirement already satisfied: python-dateutil>=2.7.3 in /usr/local/lib/python3.6/dist-packages (from pandas>=0.23.4->phik) (2.8.1)\n",
            "Requirement already satisfied: kiwisolver>=1.0.1 in /usr/local/lib/python3.6/dist-packages (from matplotlib>=2.2.3->phik) (1.3.1)\n",
            "Requirement already satisfied: cycler>=0.10 in /usr/local/lib/python3.6/dist-packages (from matplotlib>=2.2.3->phik) (0.10.0)\n",
            "Requirement already satisfied: pyparsing!=2.0.4,!=2.1.2,!=2.1.6,>=2.0.1 in /usr/local/lib/python3.6/dist-packages (from matplotlib>=2.2.3->phik) (2.4.7)\n",
            "Requirement already satisfied: six>=1.5 in /usr/local/lib/python3.6/dist-packages (from python-dateutil>=2.7.3->pandas>=0.23.4->phik) (1.15.0)\n",
            "Installing collected packages: phik\n",
            "Successfully installed phik-0.10.0\n"
          ],
          "name": "stdout"
        }
      ]
    },
    {
      "cell_type": "code",
      "metadata": {
        "colab": {
          "base_uri": "https://localhost:8080/",
          "height": 764
        },
        "id": "hKHC9jThts76",
        "outputId": "cdd6b1ef-4bd6-43e6-f5e3-af46b2c5083a"
      },
      "source": [
        "import phik\n",
        "numerical_cols = ['age','max_elapsed_time', 'unique_devices_per_user']\n",
        "cat_cols = ['gender', 'day_account_created', 'month_account_created', 'year_account_created',\n",
        "       'date__account_created', 'week_account_created', 'day_first_active',\n",
        "       'month_first_active', 'year_first_active', 'date_first_active',\n",
        "       'week_first_active','age_gender_missing','max_elapsed_action','max_elapsed_action_type',\n",
        "       'most_occuring_action_detail','most_occuring_action_type','most_used_device']\n",
        "train_columns=numerical_cols+cat_cols+['country_destination']\n",
        "correlation_matrix = train[train_columns].phik_matrix()\n",
        "plt.figure(figsize=(15,10))\n",
        "plot = sns.heatmap(correlation_matrix, vmin=0, vmax=1, annot=True)"
      ],
      "execution_count": null,
      "outputs": [
        {
          "output_type": "stream",
          "text": [
            "interval columns not set, guessing: ['age', 'max_elapsed_time', 'unique_devices_per_user', 'year_account_created', 'date__account_created', 'week_account_created', 'year_first_active', 'date_first_active', 'week_first_active', 'age_gender_missing']\n"
          ],
          "name": "stdout"
        },
        {
          "output_type": "display_data",
          "data": {
            "image/png": "[encoded data removed]",
            "text/plain": [
              "<Figure size 1080x720 with 2 Axes>"
            ]
          },
          "metadata": {
            "tags": [],
            "needs_background": "light"
          }
        }
      ]
    },
    {
      "cell_type": "markdown",
      "metadata": {
        "id": "VZ--3_bl5S5D"
      },
      "source": [
        "#Base Model "
      ]
    },
    {
      "cell_type": "code",
      "metadata": {
        "colab": {
          "base_uri": "https://localhost:8080/"
        },
        "id": "2uCsSgB_HTo0",
        "outputId": "de577370-9579-4261-b14b-30830b63413f"
      },
      "source": [
        "train.columns"
      ],
      "execution_count": null,
      "outputs": [
        {
          "output_type": "execute_result",
          "data": {
            "text/plain": [
              "Index(['id', 'date_account_created', 'timestamp_first_active', 'gender', 'age',\n",
              "       'signup_method', 'signup_flow', 'language', 'affiliate_channel',\n",
              "       'affiliate_provider', 'first_affiliate_tracked', 'signup_app',\n",
              "       'first_device_type', 'first_browser', 'country_destination',\n",
              "       'day_account_created', 'month_account_created', 'year_account_created',\n",
              "       'date__account_created', 'week_account_created', 'day_first_active',\n",
              "       'month_first_active', 'year_first_active', 'date_first_active',\n",
              "       'week_first_active', 'days_between_tfa_dac', 'age_gender_missing',\n",
              "       'mean_session_time', 'total_session_time', 'sessions_per_user',\n",
              "       'unique_devices_per_user', 'most_occuring_action',\n",
              "       'most_occuring_action_type', 'most_occuring_action_detail',\n",
              "       'most_used_device', 'max_elapsed_action_type', 'max_elapsed_action',\n",
              "       'max_elapsed_time'],\n",
              "      dtype='object')"
            ]
          },
          "metadata": {
            "tags": []
          },
          "execution_count": 57
        }
      ]
    },
    {
      "cell_type": "code",
      "metadata": {
        "id": "VeTVqh_4g4mx"
      },
      "source": [
        "#Update numerical and categorical columns to pass them to data preparation\n",
        "numerical_cols = ['age','days_between_tfa_dac','mean_session_time','total_session_time','sessions_per_user','max_elapsed_time', 'unique_devices_per_user']\n",
        "cat_cols = ['gender',\n",
        "       'signup_method', 'signup_flow', 'language', 'affiliate_channel',\n",
        "       'affiliate_provider', 'first_affiliate_tracked', 'signup_app',\n",
        "       'first_device_type', 'first_browser',\n",
        "       'day_account_created', 'month_account_created', 'year_account_created',\n",
        "       'date__account_created', 'week_account_created', 'day_first_active',\n",
        "       'month_first_active', 'year_first_active', 'date_first_active',\n",
        "       'week_first_active', 'age_gender_missing', 'most_occuring_action',\n",
        "       'most_occuring_action_type', 'most_occuring_action_detail',\n",
        "       'most_used_device', 'max_elapsed_action_type', 'max_elapsed_action']"
      ],
      "execution_count": null,
      "outputs": []
    },
    {
      "cell_type": "code",
      "metadata": {
        "id": "owdySFax5b_r"
      },
      "source": [
        "def data_preparation(cat_cols, num_cols):\n",
        "\n",
        "  '''Function to prepare the data to input to the model.\n",
        "  For categorical features, we do OneHotEncoding and for numerical we use as is.\n",
        "  We append both features  '''\n",
        "\n",
        "  y = train['country_destination']\n",
        "  X_train, X_test, y_train, y_test = train_test_split(train.drop('country_destination', axis=1),y, test_size=0.2, random_state=42, stratify=y)\n",
        "\n",
        "  # Label encode the target variable\n",
        "  le = LabelEncoder()   #Label encoding the target variable since it is multi-class.\n",
        "  y_train = le.fit_transform(y_train)   \n",
        "  y_test = le.transform(y_test)\n",
        "\n",
        "  #Categorical features\n",
        "  encoder = OneHotEncoder(handle_unknown='ignore') #Onehot encoder, to ignore unknown categories from test data.\n",
        "  encoder.fit(X_train[cat_cols])   #fitting encoder\n",
        "  X_train_encoded = encoder.transform(X_train[cat_cols])  #transform X_train, X_test and test features\n",
        "  X_test_encoded = encoder.transform(X_test[cat_cols])\n",
        "  test_encoded = encoder.transform(test[cat_cols])\n",
        "\n",
        "  print(\"Shapes after encoding categorical features\", X_train_encoded.shape, X_test_encoded.shape, test_encoded.shape)\n",
        "\n",
        "  X_train_numerical_features = np.array(X_train[num_cols])\n",
        "  X_test_numerical_features = np.array(X_test[num_cols])\n",
        "  test_numerical_features = np.array(test[num_cols])\n",
        "\n",
        "  X_train_data = hstack((X_train_encoded, X_train_numerical_features))  #appending categorical encoded and numerical features\n",
        "  X_test_data = hstack((X_test_encoded, X_test_numerical_features))\n",
        "  total_test_data = hstack((test_encoded, test_numerical_features))\n",
        "\n",
        "  print('Shapes of final input data',X_train_data.shape, X_test_data.shape ,total_test_data.shape)\n",
        "  \n",
        "  return X_train_data,X_test_data,y_train,y_test,total_test_data, le\n",
        "\n",
        "def modeltrain(X_train, y_train):\n",
        "\n",
        "  '''Function to train the model on the prepared train data'''\n",
        "\n",
        "  model = XGBClassifier(max_depth=5, n_estimators=150, subsample=0.5, colsample_bytree=0.5,objective='multi:softprob', n_jobs=-1,seed=1)  #subsample=0.7, colsample_bytree=0.7, #XGBClassifier with basic parameters.\n",
        "  # model = XGBClassifier(max_depth=5, n_estimators=150)\n",
        "  model.fit(X_train, y_train)   #fit the model on train data\n",
        "  print(\"Fitted the model with train data...\")\n",
        "\n",
        "  return model\n",
        "\n",
        "def test_evaluate(X_train, X_test, y_train, y_test, model):\n",
        "\n",
        "  '''Test the fitted model on X_train and X_test and obtain the ndcg score '''\n",
        "\n",
        "  #predict on train and test sets with the trained model.\n",
        "  y_train_pred = model.predict_proba(X_train) \n",
        "  y_test_pred = model.predict_proba(X_test)\n",
        "\n",
        "  #One hot encode the target variable to calculate the ndcg scores \n",
        "  ohe = OneHotEncoder()\n",
        "  y_train_ohe = ohe.fit_transform(y_train.reshape(-1,1))\n",
        "  y_test_ohe = ohe.transform(y_test.reshape(-1,1))\n",
        "\n",
        "  ndcg_train = ndcg_score(y_train_ohe.toarray(), y_train_pred)\n",
        "  ndcg_test = ndcg_score(y_test_ohe.toarray(), y_test_pred)\n",
        "\n",
        "  print(\"NDCG scores on train and test data are \",ndcg_train, ndcg_test)\n",
        "\n",
        "  return model\n",
        "\n",
        "\n",
        "def predict_for_submission(model, total_test_data, le):\n",
        "\n",
        "  ''' To generate the submission file by getting the 5 possible predictions from the probability scores obtained from the model'''\n",
        "\n",
        "  y_pred = model.predict_proba(total_test_data)  #get probabilities on the test data.\n",
        "  #Taking the 5 classes with highest probabilities\n",
        "  #Idea to label encode the target variable to get labels using inverse_transform is taken from https://www.kaggle.com/zhugds/test-script\n",
        "  #https://stackoverflow.com/questions/16486252/is-it-possible-to-use-argsort-in-descending-order arg_sort in descending order.\n",
        "\n",
        "  predictions = np.array([le.inverse_transform((-1*x).argsort()[:5]) for x in y_pred]).flatten()\n",
        "  test_ids = np.array([[x]*5 for x in test['id']]).flatten()\n",
        "  submission = pd.DataFrame(np.stack((test_ids, predictions), axis=1), columns=['id','country'])\n",
        "  submission.to_csv('submission.csv', index=False)\n",
        "  print(\"Successfully first 5 predictions are generated for test users.\")\n",
        "  "
      ],
      "execution_count": 13,
      "outputs": []
    },
    {
      "cell_type": "code",
      "metadata": {
        "colab": {
          "base_uri": "https://localhost:8080/"
        },
        "id": "9yq-m1wdGUqw",
        "outputId": "2368797a-4d63-40ed-f83b-5b8e3aeaa864"
      },
      "source": [
        "#Prepare the data, train it and predict\n",
        "X_train, X_test, y_train, y_test, test_data, le = data_preparation(cat_cols, numerical_cols)\n",
        "model = modeltrain(X_train, y_train)\n",
        "model = test_evaluate(X_train, X_test, y_train, y_test, model)\n"
      ],
      "execution_count": null,
      "outputs": [
        {
          "output_type": "stream",
          "text": [
            "Shapes after encoding categorical features (170760, 857) (42691, 857) (62096, 857)\n",
            "Shapes of final input data (170760, 864) (42691, 864) (62096, 864)\n",
            "Fitted the model with train data...\n",
            "NDCG scores on train and test data are  0.8466472533826033 0.84254771364806\n"
          ],
          "name": "stdout"
        }
      ]
    },
    {
      "cell_type": "code",
      "metadata": {
        "colab": {
          "base_uri": "https://localhost:8080/"
        },
        "id": "ZAGz1AL-90le",
        "outputId": "eac4035f-93bd-4ca7-bc47-402701700547"
      },
      "source": [
        "predict_for_submission(model, test_data, le)"
      ],
      "execution_count": null,
      "outputs": [
        {
          "output_type": "stream",
          "text": [
            "Successfully first 5 predictions are generated for test users.\n"
          ],
          "name": "stdout"
        }
      ]
    },
    {
      "cell_type": "code",
      "metadata": {
        "colab": {
          "base_uri": "https://localhost:8080/"
        },
        "id": "bFZfl9S6gSkW",
        "outputId": "717bbfc0-0f19-4c8e-d772-6b9e4cbc419f"
      },
      "source": [
        "# import pickle\n",
        "# out = open('CS1data_upd.pkl', 'wb')\n",
        "# pickle.dump((X_train, X_test, y_train, y_test, test_data, le), out)\n",
        "# out.close"
      ],
      "execution_count": null,
      "outputs": [
        {
          "output_type": "execute_result",
          "data": {
            "text/plain": [
              "<function BufferedWriter.close>"
            ]
          },
          "metadata": {
            "tags": []
          },
          "execution_count": 75
        }
      ]
    },
    {
      "cell_type": "code",
      "metadata": {
        "id": "GGWdEmiYVISG"
      },
      "source": [
        "import pickle\n",
        "infile = open('CS1data_upd.pkl', 'rb')\n",
        "X_train, X_test, y_train, y_test, test_data, le = pickle.load(infile)\n",
        "infile.close()"
      ],
      "execution_count": 8,
      "outputs": []
    },
    {
      "cell_type": "code",
      "metadata": {
        "colab": {
          "base_uri": "https://localhost:8080/"
        },
        "id": "CQfQFlVYJ99u",
        "outputId": "70fab1ae-8dd4-438c-aaa2-80e9a8ee70e6"
      },
      "source": [
        "#Hyper parameter tuning on XGB model\n",
        "\n",
        "\n",
        "clf = XGBClassifier()\n",
        "\n",
        "params = {\n",
        "          'n_estimators' : [50,100,150],\n",
        "          'max_depth' : [3,5,7],\n",
        "          'learning_rate' : [0.01,0.1,1],\n",
        "          'subsample':[0.5,0.75,1], \n",
        "          'colsample_bytree':[0.5,0.75,1]\n",
        "          }\n",
        "\n",
        "grid = RandomizedSearchCV(estimator=clf, \n",
        "                    verbose=10, n_iter=10,\n",
        "                    param_distributions=params, \n",
        "                    cv=2,\n",
        "                    refit=True)\n",
        "                    # scoring=make_scorer(ndcg_score))\n",
        "\n",
        "grid.fit(X_train, y_train)"
      ],
      "execution_count": 22,
      "outputs": [
        {
          "output_type": "stream",
          "text": [
            "Fitting 2 folds for each of 10 candidates, totalling 20 fits\n",
            "[CV] subsample=0.75, n_estimators=150, max_depth=5, learning_rate=0.1, colsample_bytree=0.75 \n"
          ],
          "name": "stdout"
        },
        {
          "output_type": "stream",
          "text": [
            "[Parallel(n_jobs=1)]: Using backend SequentialBackend with 1 concurrent workers.\n"
          ],
          "name": "stderr"
        },
        {
          "output_type": "stream",
          "text": [
            "[CV]  subsample=0.75, n_estimators=150, max_depth=5, learning_rate=0.1, colsample_bytree=0.75, score=0.645, total= 4.3min\n",
            "[CV] subsample=0.75, n_estimators=150, max_depth=5, learning_rate=0.1, colsample_bytree=0.75 \n"
          ],
          "name": "stdout"
        },
        {
          "output_type": "stream",
          "text": [
            "[Parallel(n_jobs=1)]: Done   1 out of   1 | elapsed:  4.3min remaining:    0.0s\n"
          ],
          "name": "stderr"
        },
        {
          "output_type": "stream",
          "text": [
            "[CV]  subsample=0.75, n_estimators=150, max_depth=5, learning_rate=0.1, colsample_bytree=0.75, score=0.645, total= 4.3min\n",
            "[CV] subsample=0.75, n_estimators=150, max_depth=7, learning_rate=1, colsample_bytree=1 \n"
          ],
          "name": "stdout"
        },
        {
          "output_type": "stream",
          "text": [
            "[Parallel(n_jobs=1)]: Done   2 out of   2 | elapsed:  8.5min remaining:    0.0s\n"
          ],
          "name": "stderr"
        },
        {
          "output_type": "stream",
          "text": [
            "[CV]  subsample=0.75, n_estimators=150, max_depth=7, learning_rate=1, colsample_bytree=1, score=0.570, total= 7.5min\n",
            "[CV] subsample=0.75, n_estimators=150, max_depth=7, learning_rate=1, colsample_bytree=1 \n"
          ],
          "name": "stdout"
        },
        {
          "output_type": "stream",
          "text": [
            "[Parallel(n_jobs=1)]: Done   3 out of   3 | elapsed: 16.0min remaining:    0.0s\n"
          ],
          "name": "stderr"
        },
        {
          "output_type": "stream",
          "text": [
            "[CV]  subsample=0.75, n_estimators=150, max_depth=7, learning_rate=1, colsample_bytree=1, score=0.600, total= 7.3min\n",
            "[CV] subsample=0.75, n_estimators=100, max_depth=5, learning_rate=1, colsample_bytree=1 \n"
          ],
          "name": "stdout"
        },
        {
          "output_type": "stream",
          "text": [
            "[Parallel(n_jobs=1)]: Done   4 out of   4 | elapsed: 23.3min remaining:    0.0s\n"
          ],
          "name": "stderr"
        },
        {
          "output_type": "stream",
          "text": [
            "[CV]  subsample=0.75, n_estimators=100, max_depth=5, learning_rate=1, colsample_bytree=1, score=0.624, total= 3.5min\n",
            "[CV] subsample=0.75, n_estimators=100, max_depth=5, learning_rate=1, colsample_bytree=1 \n"
          ],
          "name": "stdout"
        },
        {
          "output_type": "stream",
          "text": [
            "[Parallel(n_jobs=1)]: Done   5 out of   5 | elapsed: 26.8min remaining:    0.0s\n"
          ],
          "name": "stderr"
        },
        {
          "output_type": "stream",
          "text": [
            "[CV]  subsample=0.75, n_estimators=100, max_depth=5, learning_rate=1, colsample_bytree=1, score=0.625, total= 3.5min\n",
            "[CV] subsample=0.5, n_estimators=150, max_depth=3, learning_rate=0.1, colsample_bytree=0.75 \n"
          ],
          "name": "stdout"
        },
        {
          "output_type": "stream",
          "text": [
            "[Parallel(n_jobs=1)]: Done   6 out of   6 | elapsed: 30.2min remaining:    0.0s\n"
          ],
          "name": "stderr"
        },
        {
          "output_type": "stream",
          "text": [
            "[CV]  subsample=0.5, n_estimators=150, max_depth=3, learning_rate=0.1, colsample_bytree=0.75, score=0.644, total= 3.1min\n",
            "[CV] subsample=0.5, n_estimators=150, max_depth=3, learning_rate=0.1, colsample_bytree=0.75 \n"
          ],
          "name": "stdout"
        },
        {
          "output_type": "stream",
          "text": [
            "[Parallel(n_jobs=1)]: Done   7 out of   7 | elapsed: 33.3min remaining:    0.0s\n"
          ],
          "name": "stderr"
        },
        {
          "output_type": "stream",
          "text": [
            "[CV]  subsample=0.5, n_estimators=150, max_depth=3, learning_rate=0.1, colsample_bytree=0.75, score=0.644, total= 3.1min\n",
            "[CV] subsample=0.75, n_estimators=150, max_depth=3, learning_rate=0.1, colsample_bytree=1 \n"
          ],
          "name": "stdout"
        },
        {
          "output_type": "stream",
          "text": [
            "[Parallel(n_jobs=1)]: Done   8 out of   8 | elapsed: 36.4min remaining:    0.0s\n"
          ],
          "name": "stderr"
        },
        {
          "output_type": "stream",
          "text": [
            "[CV]  subsample=0.75, n_estimators=150, max_depth=3, learning_rate=0.1, colsample_bytree=1, score=0.644, total= 3.3min\n",
            "[CV] subsample=0.75, n_estimators=150, max_depth=3, learning_rate=0.1, colsample_bytree=1 \n"
          ],
          "name": "stdout"
        },
        {
          "output_type": "stream",
          "text": [
            "[Parallel(n_jobs=1)]: Done   9 out of   9 | elapsed: 39.7min remaining:    0.0s\n"
          ],
          "name": "stderr"
        },
        {
          "output_type": "stream",
          "text": [
            "[CV]  subsample=0.75, n_estimators=150, max_depth=3, learning_rate=0.1, colsample_bytree=1, score=0.644, total= 3.3min\n",
            "[CV] subsample=0.5, n_estimators=100, max_depth=3, learning_rate=1, colsample_bytree=1 \n",
            "[CV]  subsample=0.5, n_estimators=100, max_depth=3, learning_rate=1, colsample_bytree=1, score=0.632, total= 2.5min\n",
            "[CV] subsample=0.5, n_estimators=100, max_depth=3, learning_rate=1, colsample_bytree=1 \n",
            "[CV]  subsample=0.5, n_estimators=100, max_depth=3, learning_rate=1, colsample_bytree=1, score=0.635, total= 2.5min\n",
            "[CV] subsample=1, n_estimators=150, max_depth=3, learning_rate=1, colsample_bytree=0.75 \n",
            "[CV]  subsample=1, n_estimators=150, max_depth=3, learning_rate=1, colsample_bytree=0.75, score=0.571, total= 1.5min\n",
            "[CV] subsample=1, n_estimators=150, max_depth=3, learning_rate=1, colsample_bytree=0.75 \n",
            "[CV]  subsample=1, n_estimators=150, max_depth=3, learning_rate=1, colsample_bytree=0.75, score=0.641, total= 2.3min\n",
            "[CV] subsample=0.75, n_estimators=100, max_depth=3, learning_rate=1, colsample_bytree=0.5 \n",
            "[CV]  subsample=0.75, n_estimators=100, max_depth=3, learning_rate=1, colsample_bytree=0.5, score=0.638, total= 1.5min\n",
            "[CV] subsample=0.75, n_estimators=100, max_depth=3, learning_rate=1, colsample_bytree=0.5 \n",
            "[CV]  subsample=0.75, n_estimators=100, max_depth=3, learning_rate=1, colsample_bytree=0.5, score=0.638, total= 1.5min\n",
            "[CV] subsample=0.75, n_estimators=150, max_depth=7, learning_rate=0.01, colsample_bytree=0.75 \n",
            "[CV]  subsample=0.75, n_estimators=150, max_depth=7, learning_rate=0.01, colsample_bytree=0.75, score=0.644, total= 5.7min\n",
            "[CV] subsample=0.75, n_estimators=150, max_depth=7, learning_rate=0.01, colsample_bytree=0.75 \n",
            "[CV]  subsample=0.75, n_estimators=150, max_depth=7, learning_rate=0.01, colsample_bytree=0.75, score=0.642, total= 5.8min\n",
            "[CV] subsample=0.5, n_estimators=50, max_depth=3, learning_rate=0.1, colsample_bytree=0.5 \n",
            "[CV]  subsample=0.5, n_estimators=50, max_depth=3, learning_rate=0.1, colsample_bytree=0.5, score=0.640, total=  49.6s\n",
            "[CV] subsample=0.5, n_estimators=50, max_depth=3, learning_rate=0.1, colsample_bytree=0.5 \n",
            "[CV]  subsample=0.5, n_estimators=50, max_depth=3, learning_rate=0.1, colsample_bytree=0.5, score=0.641, total=  49.3s\n"
          ],
          "name": "stdout"
        },
        {
          "output_type": "stream",
          "text": [
            "[Parallel(n_jobs=1)]: Done  20 out of  20 | elapsed: 67.8min finished\n"
          ],
          "name": "stderr"
        },
        {
          "output_type": "execute_result",
          "data": {
            "text/plain": [
              "RandomizedSearchCV(cv=2, error_score=nan,\n",
              "                   estimator=XGBClassifier(base_score=0.5, booster='gbtree',\n",
              "                                           colsample_bylevel=1,\n",
              "                                           colsample_bynode=1,\n",
              "                                           colsample_bytree=1, gamma=0,\n",
              "                                           learning_rate=0.1, max_delta_step=0,\n",
              "                                           max_depth=3, min_child_weight=1,\n",
              "                                           missing=None, n_estimators=100,\n",
              "                                           n_jobs=1, nthread=None,\n",
              "                                           objective='binary:logistic',\n",
              "                                           random_state=0, reg_alpha=0,\n",
              "                                           reg_lambda=1, sc...ght=1,\n",
              "                                           seed=None, silent=None, subsample=1,\n",
              "                                           verbosity=1),\n",
              "                   iid='deprecated', n_iter=10, n_jobs=None,\n",
              "                   param_distributions={'colsample_bytree': [0.5, 0.75, 1],\n",
              "                                        'learning_rate': [0.01, 0.1, 1],\n",
              "                                        'max_depth': [3, 5, 7],\n",
              "                                        'n_estimators': [50, 100, 150],\n",
              "                                        'subsample': [0.5, 0.75, 1]},\n",
              "                   pre_dispatch='2*n_jobs', random_state=None, refit=True,\n",
              "                   return_train_score=False, scoring=None, verbose=10)"
            ]
          },
          "metadata": {
            "tags": []
          },
          "execution_count": 22
        }
      ]
    },
    {
      "cell_type": "markdown",
      "metadata": {
        "id": "on4Y9dcqMfhn"
      },
      "source": [
        "On submitting the test predictions in Kaggle with the First cut approach, public leaderboard score 0.86307 is achieved.\n",
        "\n",
        "And with current features and models with XGB model alone, public score is 0.87123 and private score is 0.87629."
      ]
    },
    {
      "cell_type": "markdown",
      "metadata": {
        "id": "g4V3IY-TrPVh"
      },
      "source": [
        "After doing the hyper parameter tuning for XGB, public score of 0.87245 and private score of 0.87674 is achieved. This is a slight improvement."
      ]
    },
    {
      "cell_type": "markdown",
      "metadata": {
        "id": "ZR6fCLcCCHNw"
      },
      "source": [
        "#StackingCVClassifier-MLXTEND"
      ]
    },
    {
      "cell_type": "code",
      "metadata": {
        "id": "btLpFv2qDB0y"
      },
      "source": [
        "from sklearn import model_selection\n",
        "from sklearn.linear_model import LogisticRegression\n",
        "from sklearn.neighbors import KNeighborsClassifier\n",
        "from sklearn.naive_bayes import GaussianNB \n",
        "from sklearn.ensemble import RandomForestClassifier\n",
        "from mlxtend.classifier import StackingCVClassifier\n",
        "from sklearn.svm import SVC\n",
        "from sklearn.model_selection import GridSearchCV,RandomizedSearchCV"
      ],
      "execution_count": 26,
      "outputs": []
    },
    {
      "cell_type": "code",
      "metadata": {
        "colab": {
          "base_uri": "https://localhost:8080/"
        },
        "id": "7RtDQZrtwuMf",
        "outputId": "4a283e64-4a10-4fe9-a796-80aa20d411ec"
      },
      "source": [
        "#As suggested we are sampling the data to do hyper parameter tuning as it will take very long time otherwise\n",
        "X_train_sampled, X_test_sampled, y_train_sampled, y_test_sampled = train_test_split(X_train,y_train, test_size=0.5, random_state=42, stratify=y_train)\n",
        "X_train_sampled.shape"
      ],
      "execution_count": null,
      "outputs": [
        {
          "output_type": "execute_result",
          "data": {
            "text/plain": [
              "(85380, 614)"
            ]
          },
          "metadata": {
            "tags": []
          },
          "execution_count": 66
        }
      ]
    },
    {
      "cell_type": "code",
      "metadata": {
        "colab": {
          "base_uri": "https://localhost:8080/"
        },
        "id": "e7zvfN6hCMlj",
        "outputId": "e93b5c6a-3000-463f-87bc-f0ac3a147d26"
      },
      "source": [
        "# Initializing models\n",
        "\n",
        "clf1 = DecisionTreeClassifier()\n",
        "clf2 = XGBClassifier()\n",
        "clf3 = LogisticRegression()\n",
        "clf4 = GaussianNB()\n",
        "clf5 = KNeighborsClassifier()\n",
        "models = [clf1, clf2, clf3, clf4, clf5]\n",
        "\n",
        "lr = LogisticRegression()\n",
        "\n",
        "sclf = StackingCVClassifier(classifiers=models, \n",
        "                            meta_classifier=lr,cv=2,\n",
        "                            use_probas=True)\n",
        "\n",
        "#'kneighborsclassifier__n_neighbors': [3, 5, 7],\n",
        "params = {'decisiontreeclassifier__max_depth': [3, 5, 7],\n",
        "          'xgbclassifier__n_estimators' : [50,100,150],\n",
        "          'xgbclassifier__max_depth' : [3,5,7],\n",
        "          'xgbclassifier__learning_rate' : [0.01,0.1,1],\n",
        "          'logisticregression__C': [0.01,0.1, 1,10],\n",
        "          'kneighborsclassifier__n_neighbors': [3, 5, 7],\n",
        "          'meta_classifier__C': [0.1,1,10]}\n",
        "\n",
        "grid = RandomizedSearchCV(estimator=sclf, \n",
        "                    verbose=10, n_iter=10,\n",
        "                    param_distributions=params, \n",
        "                    cv=2,\n",
        "                    refit=True)\n",
        "# scoring=make_scorer(ndcg_score))\n",
        "\n",
        "grid.fit(X_train_sampled.toarray(), y_train_sampled)\n"
      ],
      "execution_count": null,
      "outputs": [
        {
          "output_type": "stream",
          "text": [
            "Fitting 2 folds for each of 10 candidates, totalling 20 fits\n",
            "[CV] xgbclassifier__n_estimators=150, xgbclassifier__max_depth=3, xgbclassifier__learning_rate=0.01, meta_classifier__C=1, logisticregression__C=1, kneighborsclassifier__n_neighbors=3, decisiontreeclassifier__max_depth=7 \n"
          ],
          "name": "stdout"
        },
        {
          "output_type": "stream",
          "text": [
            "[Parallel(n_jobs=1)]: Using backend SequentialBackend with 1 concurrent workers.\n"
          ],
          "name": "stderr"
        },
        {
          "output_type": "stream",
          "text": [
            "[CV]  xgbclassifier__n_estimators=150, xgbclassifier__max_depth=3, xgbclassifier__learning_rate=0.01, meta_classifier__C=1, logisticregression__C=1, kneighborsclassifier__n_neighbors=3, decisiontreeclassifier__max_depth=7, score=0.640, total=33.8min\n",
            "[CV] xgbclassifier__n_estimators=150, xgbclassifier__max_depth=3, xgbclassifier__learning_rate=0.01, meta_classifier__C=1, logisticregression__C=1, kneighborsclassifier__n_neighbors=3, decisiontreeclassifier__max_depth=7 \n"
          ],
          "name": "stdout"
        },
        {
          "output_type": "stream",
          "text": [
            "[Parallel(n_jobs=1)]: Done   1 out of   1 | elapsed: 33.8min remaining:    0.0s\n"
          ],
          "name": "stderr"
        },
        {
          "output_type": "stream",
          "text": [
            "[CV]  xgbclassifier__n_estimators=150, xgbclassifier__max_depth=3, xgbclassifier__learning_rate=0.01, meta_classifier__C=1, logisticregression__C=1, kneighborsclassifier__n_neighbors=3, decisiontreeclassifier__max_depth=7, score=0.638, total=33.7min\n",
            "[CV] xgbclassifier__n_estimators=150, xgbclassifier__max_depth=3, xgbclassifier__learning_rate=0.1, meta_classifier__C=0.1, logisticregression__C=0.1, kneighborsclassifier__n_neighbors=7, decisiontreeclassifier__max_depth=5 \n"
          ],
          "name": "stdout"
        },
        {
          "output_type": "stream",
          "text": [
            "[Parallel(n_jobs=1)]: Done   2 out of   2 | elapsed: 67.5min remaining:    0.0s\n"
          ],
          "name": "stderr"
        },
        {
          "output_type": "stream",
          "text": [
            "[CV]  xgbclassifier__n_estimators=150, xgbclassifier__max_depth=3, xgbclassifier__learning_rate=0.1, meta_classifier__C=0.1, logisticregression__C=0.1, kneighborsclassifier__n_neighbors=7, decisiontreeclassifier__max_depth=5, score=0.644, total=34.3min\n",
            "[CV] xgbclassifier__n_estimators=150, xgbclassifier__max_depth=3, xgbclassifier__learning_rate=0.1, meta_classifier__C=0.1, logisticregression__C=0.1, kneighborsclassifier__n_neighbors=7, decisiontreeclassifier__max_depth=5 \n"
          ],
          "name": "stdout"
        },
        {
          "output_type": "stream",
          "text": [
            "[Parallel(n_jobs=1)]: Done   3 out of   3 | elapsed: 101.8min remaining:    0.0s\n"
          ],
          "name": "stderr"
        },
        {
          "output_type": "stream",
          "text": [
            "[CV]  xgbclassifier__n_estimators=150, xgbclassifier__max_depth=3, xgbclassifier__learning_rate=0.1, meta_classifier__C=0.1, logisticregression__C=0.1, kneighborsclassifier__n_neighbors=7, decisiontreeclassifier__max_depth=5, score=0.643, total=34.1min\n",
            "[CV] xgbclassifier__n_estimators=150, xgbclassifier__max_depth=3, xgbclassifier__learning_rate=0.01, meta_classifier__C=10, logisticregression__C=1, kneighborsclassifier__n_neighbors=7, decisiontreeclassifier__max_depth=3 \n"
          ],
          "name": "stdout"
        },
        {
          "output_type": "stream",
          "text": [
            "[Parallel(n_jobs=1)]: Done   4 out of   4 | elapsed: 135.9min remaining:    0.0s\n"
          ],
          "name": "stderr"
        },
        {
          "output_type": "stream",
          "text": [
            "[CV]  xgbclassifier__n_estimators=150, xgbclassifier__max_depth=3, xgbclassifier__learning_rate=0.01, meta_classifier__C=10, logisticregression__C=1, kneighborsclassifier__n_neighbors=7, decisiontreeclassifier__max_depth=3, score=0.641, total=33.6min\n",
            "[CV] xgbclassifier__n_estimators=150, xgbclassifier__max_depth=3, xgbclassifier__learning_rate=0.01, meta_classifier__C=10, logisticregression__C=1, kneighborsclassifier__n_neighbors=7, decisiontreeclassifier__max_depth=3 \n"
          ],
          "name": "stdout"
        },
        {
          "output_type": "stream",
          "text": [
            "[Parallel(n_jobs=1)]: Done   5 out of   5 | elapsed: 169.5min remaining:    0.0s\n"
          ],
          "name": "stderr"
        },
        {
          "output_type": "stream",
          "text": [
            "[CV]  xgbclassifier__n_estimators=150, xgbclassifier__max_depth=3, xgbclassifier__learning_rate=0.01, meta_classifier__C=10, logisticregression__C=1, kneighborsclassifier__n_neighbors=7, decisiontreeclassifier__max_depth=3, score=0.638, total=33.7min\n",
            "[CV] xgbclassifier__n_estimators=100, xgbclassifier__max_depth=5, xgbclassifier__learning_rate=1, meta_classifier__C=0.1, logisticregression__C=0.1, kneighborsclassifier__n_neighbors=7, decisiontreeclassifier__max_depth=5 \n"
          ],
          "name": "stdout"
        },
        {
          "output_type": "stream",
          "text": [
            "[Parallel(n_jobs=1)]: Done   6 out of   6 | elapsed: 203.2min remaining:    0.0s\n"
          ],
          "name": "stderr"
        },
        {
          "output_type": "stream",
          "text": [
            "[CV]  xgbclassifier__n_estimators=100, xgbclassifier__max_depth=5, xgbclassifier__learning_rate=1, meta_classifier__C=0.1, logisticregression__C=0.1, kneighborsclassifier__n_neighbors=7, decisiontreeclassifier__max_depth=5, score=0.639, total=36.1min\n",
            "[CV] xgbclassifier__n_estimators=100, xgbclassifier__max_depth=5, xgbclassifier__learning_rate=1, meta_classifier__C=0.1, logisticregression__C=0.1, kneighborsclassifier__n_neighbors=7, decisiontreeclassifier__max_depth=5 \n"
          ],
          "name": "stdout"
        },
        {
          "output_type": "stream",
          "text": [
            "[Parallel(n_jobs=1)]: Done   7 out of   7 | elapsed: 239.3min remaining:    0.0s\n"
          ],
          "name": "stderr"
        },
        {
          "output_type": "stream",
          "text": [
            "[CV]  xgbclassifier__n_estimators=100, xgbclassifier__max_depth=5, xgbclassifier__learning_rate=1, meta_classifier__C=0.1, logisticregression__C=0.1, kneighborsclassifier__n_neighbors=7, decisiontreeclassifier__max_depth=5, score=0.636, total=35.3min\n",
            "[CV] xgbclassifier__n_estimators=50, xgbclassifier__max_depth=5, xgbclassifier__learning_rate=1, meta_classifier__C=1, logisticregression__C=0.01, kneighborsclassifier__n_neighbors=5, decisiontreeclassifier__max_depth=5 \n"
          ],
          "name": "stdout"
        },
        {
          "output_type": "stream",
          "text": [
            "[Parallel(n_jobs=1)]: Done   8 out of   8 | elapsed: 274.6min remaining:    0.0s\n"
          ],
          "name": "stderr"
        },
        {
          "output_type": "stream",
          "text": [
            "[CV]  xgbclassifier__n_estimators=50, xgbclassifier__max_depth=5, xgbclassifier__learning_rate=1, meta_classifier__C=1, logisticregression__C=0.01, kneighborsclassifier__n_neighbors=5, decisiontreeclassifier__max_depth=5, score=0.638, total=20.2min\n",
            "[CV] xgbclassifier__n_estimators=50, xgbclassifier__max_depth=5, xgbclassifier__learning_rate=1, meta_classifier__C=1, logisticregression__C=0.01, kneighborsclassifier__n_neighbors=5, decisiontreeclassifier__max_depth=5 \n"
          ],
          "name": "stdout"
        },
        {
          "output_type": "stream",
          "text": [
            "[Parallel(n_jobs=1)]: Done   9 out of   9 | elapsed: 294.8min remaining:    0.0s\n"
          ],
          "name": "stderr"
        },
        {
          "output_type": "stream",
          "text": [
            "[CV]  xgbclassifier__n_estimators=50, xgbclassifier__max_depth=5, xgbclassifier__learning_rate=1, meta_classifier__C=1, logisticregression__C=0.01, kneighborsclassifier__n_neighbors=5, decisiontreeclassifier__max_depth=5, score=0.636, total=20.1min\n",
            "[CV] xgbclassifier__n_estimators=100, xgbclassifier__max_depth=7, xgbclassifier__learning_rate=0.01, meta_classifier__C=0.1, logisticregression__C=0.01, kneighborsclassifier__n_neighbors=5, decisiontreeclassifier__max_depth=3 \n",
            "[CV]  xgbclassifier__n_estimators=100, xgbclassifier__max_depth=7, xgbclassifier__learning_rate=0.01, meta_classifier__C=0.1, logisticregression__C=0.01, kneighborsclassifier__n_neighbors=5, decisiontreeclassifier__max_depth=3, score=0.642, total=44.8min\n",
            "[CV] xgbclassifier__n_estimators=100, xgbclassifier__max_depth=7, xgbclassifier__learning_rate=0.01, meta_classifier__C=0.1, logisticregression__C=0.01, kneighborsclassifier__n_neighbors=5, decisiontreeclassifier__max_depth=3 \n",
            "[CV]  xgbclassifier__n_estimators=100, xgbclassifier__max_depth=7, xgbclassifier__learning_rate=0.01, meta_classifier__C=0.1, logisticregression__C=0.01, kneighborsclassifier__n_neighbors=5, decisiontreeclassifier__max_depth=3, score=0.640, total=43.9min\n",
            "[CV] xgbclassifier__n_estimators=100, xgbclassifier__max_depth=3, xgbclassifier__learning_rate=1, meta_classifier__C=10, logisticregression__C=10, kneighborsclassifier__n_neighbors=5, decisiontreeclassifier__max_depth=3 \n",
            "[CV]  xgbclassifier__n_estimators=100, xgbclassifier__max_depth=3, xgbclassifier__learning_rate=1, meta_classifier__C=10, logisticregression__C=10, kneighborsclassifier__n_neighbors=5, decisiontreeclassifier__max_depth=3, score=0.639, total=24.2min\n",
            "[CV] xgbclassifier__n_estimators=100, xgbclassifier__max_depth=3, xgbclassifier__learning_rate=1, meta_classifier__C=10, logisticregression__C=10, kneighborsclassifier__n_neighbors=5, decisiontreeclassifier__max_depth=3 \n",
            "[CV]  xgbclassifier__n_estimators=100, xgbclassifier__max_depth=3, xgbclassifier__learning_rate=1, meta_classifier__C=10, logisticregression__C=10, kneighborsclassifier__n_neighbors=5, decisiontreeclassifier__max_depth=3, score=0.637, total=24.2min\n",
            "[CV] xgbclassifier__n_estimators=50, xgbclassifier__max_depth=7, xgbclassifier__learning_rate=1, meta_classifier__C=0.1, logisticregression__C=1, kneighborsclassifier__n_neighbors=7, decisiontreeclassifier__max_depth=7 \n",
            "[CV]  xgbclassifier__n_estimators=50, xgbclassifier__max_depth=7, xgbclassifier__learning_rate=1, meta_classifier__C=0.1, logisticregression__C=1, kneighborsclassifier__n_neighbors=7, decisiontreeclassifier__max_depth=7, score=0.640, total=25.6min\n",
            "[CV] xgbclassifier__n_estimators=50, xgbclassifier__max_depth=7, xgbclassifier__learning_rate=1, meta_classifier__C=0.1, logisticregression__C=1, kneighborsclassifier__n_neighbors=7, decisiontreeclassifier__max_depth=7 \n",
            "[CV]  xgbclassifier__n_estimators=50, xgbclassifier__max_depth=7, xgbclassifier__learning_rate=1, meta_classifier__C=0.1, logisticregression__C=1, kneighborsclassifier__n_neighbors=7, decisiontreeclassifier__max_depth=7, score=0.638, total=25.5min\n",
            "[CV] xgbclassifier__n_estimators=150, xgbclassifier__max_depth=3, xgbclassifier__learning_rate=1, meta_classifier__C=0.1, logisticregression__C=10, kneighborsclassifier__n_neighbors=7, decisiontreeclassifier__max_depth=5 \n",
            "[CV]  xgbclassifier__n_estimators=150, xgbclassifier__max_depth=3, xgbclassifier__learning_rate=1, meta_classifier__C=0.1, logisticregression__C=10, kneighborsclassifier__n_neighbors=7, decisiontreeclassifier__max_depth=5, score=0.639, total=34.3min\n",
            "[CV] xgbclassifier__n_estimators=150, xgbclassifier__max_depth=3, xgbclassifier__learning_rate=1, meta_classifier__C=0.1, logisticregression__C=10, kneighborsclassifier__n_neighbors=7, decisiontreeclassifier__max_depth=5 \n",
            "[CV]  xgbclassifier__n_estimators=150, xgbclassifier__max_depth=3, xgbclassifier__learning_rate=1, meta_classifier__C=0.1, logisticregression__C=10, kneighborsclassifier__n_neighbors=7, decisiontreeclassifier__max_depth=5, score=0.637, total=34.2min\n",
            "[CV] xgbclassifier__n_estimators=100, xgbclassifier__max_depth=5, xgbclassifier__learning_rate=0.1, meta_classifier__C=0.1, logisticregression__C=0.1, kneighborsclassifier__n_neighbors=7, decisiontreeclassifier__max_depth=7 \n",
            "[CV]  xgbclassifier__n_estimators=100, xgbclassifier__max_depth=5, xgbclassifier__learning_rate=0.1, meta_classifier__C=0.1, logisticregression__C=0.1, kneighborsclassifier__n_neighbors=7, decisiontreeclassifier__max_depth=7, score=0.644, total=34.6min\n",
            "[CV] xgbclassifier__n_estimators=100, xgbclassifier__max_depth=5, xgbclassifier__learning_rate=0.1, meta_classifier__C=0.1, logisticregression__C=0.1, kneighborsclassifier__n_neighbors=7, decisiontreeclassifier__max_depth=7 \n",
            "[CV]  xgbclassifier__n_estimators=100, xgbclassifier__max_depth=5, xgbclassifier__learning_rate=0.1, meta_classifier__C=0.1, logisticregression__C=0.1, kneighborsclassifier__n_neighbors=7, decisiontreeclassifier__max_depth=7, score=0.642, total=34.8min\n"
          ],
          "name": "stdout"
        },
        {
          "output_type": "stream",
          "text": [
            "[Parallel(n_jobs=1)]: Done  20 out of  20 | elapsed: 641.1min finished\n"
          ],
          "name": "stderr"
        }
      ]
    },
    {
      "cell_type": "code",
      "metadata": {
        "id": "ZcliAzbMQJ2b"
      },
      "source": [
        "clf1 = DecisionTreeClassifier(max_depth=5)\n",
        "clf2 = XGBClassifier(n_estimators=100,max_depth=5)\n",
        "clf3 = LogisticRegression()\n",
        "clf4 = GaussianNB()\n",
        "clf5 = KNeighborsClassifier(n_neighbors=3)\n",
        "models = [clf1, clf2, clf3, clf4, clf5]\n",
        "\n",
        "lr = LogisticRegression()\n",
        "\n",
        "sclf = StackingCVClassifier(classifiers=models, \n",
        "                            meta_classifier=lr,cv=2,\n",
        "                            use_probas=True)\n",
        "\n",
        "sclf.fit(X_train.toarray(), y_train)\n",
        "\n"
      ],
      "execution_count": 27,
      "outputs": []
    },
    {
      "cell_type": "code",
      "metadata": {
        "colab": {
          "background_save": true
        },
        "id": "rX59xVVMrSHn",
        "outputId": "8c07d20b-4188-4485-a6a5-0e7e86584c4b"
      },
      "source": [
        "model = test_evaluate(X_train.toarray(), X_test.toarray(), y_train, y_test, sclf)"
      ],
      "execution_count": null,
      "outputs": [
        {
          "output_type": "stream",
          "text": [
            "NDCG scores on train and test data are  0.8431764077593954 0.8418084382132921\n"
          ],
          "name": "stdout"
        }
      ]
    },
    {
      "cell_type": "markdown",
      "metadata": {
        "id": "51YGk9rEdZzU"
      },
      "source": [
        "#Custom Stacking Classifier"
      ]
    },
    {
      "cell_type": "code",
      "metadata": {
        "colab": {
          "base_uri": "https://localhost:8080/"
        },
        "id": "H-xofCEtffz5",
        "outputId": "65c73a47-f294-4015-dfc4-1e2a9b04e1c2"
      },
      "source": [
        "D1, D2, y1,y2 = train_test_split(X_train,y_train, test_size=0.5, random_state=42, stratify=y_train)\n",
        "D1.shape, D2.shape, test_data.shape"
      ],
      "execution_count": null,
      "outputs": [
        {
          "output_type": "execute_result",
          "data": {
            "text/plain": [
              "((85380, 864), (85380, 864), (62096, 864))"
            ]
          },
          "metadata": {
            "tags": []
          },
          "execution_count": 64
        }
      ]
    },
    {
      "cell_type": "code",
      "metadata": {
        "colab": {
          "base_uri": "https://localhost:8080/"
        },
        "id": "Ae-qKPnFga-D",
        "outputId": "f08ba57e-dc32-4c0c-d4a3-e47636d28c5d"
      },
      "source": [
        "\n",
        "clf1 = DecisionTreeClassifier(max_depth=7)\n",
        "clf2 = XGBClassifier(n_estimators=100,max_depth=7)\n",
        "clf3 = LogisticRegression()\n",
        "clf4 = GaussianNB()\n",
        "clf5 = KNeighborsClassifier(n_neighbors=3)\n",
        "models = [clf1, clf2, clf3, clf4, clf5]\n",
        "\n",
        "fitted_models = []\n",
        "for model in models:\n",
        "  model.fit(D1.toarray(),y1)\n",
        "  fitted_models.append(model)\n",
        "  print('Finished training on sample')\n"
      ],
      "execution_count": null,
      "outputs": [
        {
          "output_type": "stream",
          "text": [
            "Finished training on sample\n",
            "Finished training on sample\n",
            "Finished training on sample\n",
            "Finished training on sample\n",
            "Finished training on sample\n"
          ],
          "name": "stdout"
        }
      ]
    },
    {
      "cell_type": "code",
      "metadata": {
        "id": "Pe7QT015oRCI"
      },
      "source": [
        "# import pickle\n",
        "# out = open('models.pkl', 'wb')\n",
        "# pickle.dump(models, out)\n",
        "# out.close"
      ],
      "execution_count": null,
      "outputs": []
    },
    {
      "cell_type": "code",
      "metadata": {
        "colab": {
          "base_uri": "https://localhost:8080/"
        },
        "id": "X6whfd7SjU3p",
        "outputId": "1501d0e4-4a30-4411-bb9f-a95ba9770456"
      },
      "source": [
        "predictions=[]\n",
        "cv_predictions=[]\n",
        "test_predictions = []\n",
        "for model in fitted_models:\n",
        "  predictions.append(model.predict_proba(D2.toarray()))\n",
        "  cv_predictions.append(model.predict_proba(X_test.toarray())) \n",
        "  test_predictions.append(model.predict_proba(test_data.toarray())) \n",
        "  print(\"Finished generating predictions on D2\")\n",
        "\n",
        "final_train = np.hstack(predictions)\n",
        "final_cv = np.hstack(cv_predictions)\n",
        "final_test = np.hstack(test_predictions)\n",
        "\n",
        "final_train.shape, final_cv.shape"
      ],
      "execution_count": null,
      "outputs": [
        {
          "output_type": "stream",
          "text": [
            "Finished generating predictions on D2\n",
            "Finished generating predictions on D2\n",
            "Finished generating predictions on D2\n",
            "Finished generating predictions on D2\n",
            "Finished generating predictions on D2\n"
          ],
          "name": "stdout"
        },
        {
          "output_type": "execute_result",
          "data": {
            "text/plain": [
              "((85380, 60), (42691, 60))"
            ]
          },
          "metadata": {
            "tags": []
          },
          "execution_count": 73
        }
      ]
    },
    {
      "cell_type": "code",
      "metadata": {
        "id": "IGKB-mysSYh1",
        "colab": {
          "base_uri": "https://localhost:8080/"
        },
        "outputId": "1c403c1e-1ace-4514-97f0-e0126f4500c4"
      },
      "source": [
        "meta_model = LogisticRegression()\n",
        "meta_model.fit(final_train, y2)\n",
        "model = test_evaluate(final_train, final_cv, y2, y_test, meta_model)"
      ],
      "execution_count": null,
      "outputs": [
        {
          "output_type": "stream",
          "text": [
            "NDCG scores on train and test data are  0.842464585703346 0.8417481185910238\n"
          ],
          "name": "stdout"
        }
      ]
    },
    {
      "cell_type": "code",
      "metadata": {
        "colab": {
          "base_uri": "https://localhost:8080/"
        },
        "id": "nSqt3GYVp3Je",
        "outputId": "93973bae-32e2-405b-faee-f314f26ed470"
      },
      "source": [
        "test = pd.read_csv('test_users.csv')\n",
        "predict_for_submission(model, final_test, le)"
      ],
      "execution_count": null,
      "outputs": [
        {
          "output_type": "stream",
          "text": [
            "Successfully first 5 predictions are generated for test users.\n"
          ],
          "name": "stdout"
        }
      ]
    },
    {
      "cell_type": "markdown",
      "metadata": {
        "id": "qlOzZcEZx4L4"
      },
      "source": [
        "On submitting the test predictions with this stacked model, public score of 0.87138 and private score of 0.87613 are obtained."
      ]
    },
    {
      "cell_type": "markdown",
      "metadata": {
        "id": "CSA_wZfussgE"
      },
      "source": [
        "Even after hyper parameter tuning the inbuilt StackingCVClassifier, the score did not improve. Almost same scores are obtained."
      ]
    },
    {
      "cell_type": "code",
      "metadata": {
        "id": "YNtWvuXxthxv"
      },
      "source": [
        ""
      ],
      "execution_count": null,
      "outputs": []
    }
  ]
}